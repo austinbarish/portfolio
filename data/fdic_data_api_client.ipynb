{
 "cells": [
  {
   "attachments": {},
   "cell_type": "markdown",
   "metadata": {},
   "source": [
    "# FDIC Data API Client\n",
    "\n",
    "By 503 Team 4"
   ]
  },
  {
   "attachments": {},
   "cell_type": "markdown",
   "metadata": {},
   "source": [
    "Source:\n",
    "https://banks.data.fdic.gov/docs/#/"
   ]
  },
  {
   "attachments": {},
   "cell_type": "markdown",
   "metadata": {},
   "source": [
    "## Code"
   ]
  },
  {
   "attachments": {},
   "cell_type": "markdown",
   "metadata": {},
   "source": [
    "Import libraries"
   ]
  },
  {
   "cell_type": "code",
   "execution_count": 8,
   "metadata": {},
   "outputs": [],
   "source": [
    "import requests\n",
    "import pandas as pd\n",
    "import json\n",
    "import urllib.parse\n"
   ]
  },
  {
   "attachments": {},
   "cell_type": "markdown",
   "metadata": {},
   "source": [
    "Define function"
   ]
  },
  {
   "cell_type": "code",
   "execution_count": 70,
   "metadata": {},
   "outputs": [],
   "source": [
    "# set endpoint\n",
    "endpoint = 'https://banks.data.fdic.gov/api/'\n",
    "\n",
    "# function\n",
    "def get_all_financial_reporting_data(endpoint, reporting_period, fields, result_limit=5000):\n",
    "    \"\"\"\n",
    "    NC (Noninsured non-deposit commercial banks) are removed below to match the query of the FDIC site https://banks.data.fdic.gov/bankfind-suite/financialreporting\n",
    "    \"\"\"\n",
    "    \n",
    "    \n",
    "    # initialize data list\n",
    "    financials = []\n",
    "    \n",
    "    # query\n",
    "    fields_encoded = urllib.parse.quote(fields, safe='')\n",
    "    url = f'{endpoint}financials?filters=RISDATE:{reporting_period} AND !(BKCLASS:\"NC\")&fields={fields_encoded}&limit={result_limit}&sort_by=REPDTE&sort_order=ASC'\n",
    "    \n",
    "    # get response\n",
    "    response = requests.get(url)\n",
    "\n",
    "    if response.status_code == 200:\n",
    "        # response to json\n",
    "        data = response.json()\n",
    "\n",
    "        # store response data\n",
    "        financial_data = [item['data'] for item in data['data']]\n",
    "        financials.extend(financial_data)\n",
    "\n",
    "    else:\n",
    "        print(f'Request failed with status code {response.status_code}')\n",
    "        return None\n",
    "\n",
    "    return pd.DataFrame(financials)\n"
   ]
  },
  {
   "attachments": {},
   "cell_type": "markdown",
   "metadata": {},
   "source": [
    "Query the data"
   ]
  },
  {
   "cell_type": "code",
   "execution_count": 71,
   "metadata": {},
   "outputs": [
    {
     "data": {
      "text/html": [
       "<div>\n",
       "<style scoped>\n",
       "    .dataframe tbody tr th:only-of-type {\n",
       "        vertical-align: middle;\n",
       "    }\n",
       "\n",
       "    .dataframe tbody tr th {\n",
       "        vertical-align: top;\n",
       "    }\n",
       "\n",
       "    .dataframe thead th {\n",
       "        text-align: right;\n",
       "    }\n",
       "</style>\n",
       "<table border=\"1\" class=\"dataframe\">\n",
       "  <thead>\n",
       "    <tr style=\"text-align: right;\">\n",
       "      <th></th>\n",
       "      <th>CITYHCR</th>\n",
       "      <th>STCNTY</th>\n",
       "      <th>CBSA</th>\n",
       "      <th>CITY</th>\n",
       "      <th>BKCLASS</th>\n",
       "      <th>INSTTYPE</th>\n",
       "      <th>REPDTE</th>\n",
       "      <th>DEPDOM</th>\n",
       "      <th>ASSET</th>\n",
       "      <th>STNAME</th>\n",
       "      <th>CERT</th>\n",
       "      <th>NAME</th>\n",
       "      <th>ID</th>\n",
       "    </tr>\n",
       "  </thead>\n",
       "  <tbody>\n",
       "    <tr>\n",
       "      <th>848</th>\n",
       "      <td>BOSTON</td>\n",
       "      <td>Suffolk</td>\n",
       "      <td>BOSTON-CAMBRIDGE-NEWTON, MA-NH</td>\n",
       "      <td>BOSTON</td>\n",
       "      <td>SM</td>\n",
       "      <td>CFR</td>\n",
       "      <td>20221231</td>\n",
       "      <td>163284000</td>\n",
       "      <td>298020000</td>\n",
       "      <td>MASSACHUSETTS</td>\n",
       "      <td>14</td>\n",
       "      <td>STATE STREET BANK&amp;TRUST CO</td>\n",
       "      <td>14_20221231</td>\n",
       "    </tr>\n",
       "    <tr>\n",
       "      <th>3242</th>\n",
       "      <td>AUBURN</td>\n",
       "      <td>Lee</td>\n",
       "      <td>AUBURN-OPELIKA, AL</td>\n",
       "      <td>AUBURN</td>\n",
       "      <td>SM</td>\n",
       "      <td>CFR</td>\n",
       "      <td>20221231</td>\n",
       "      <td>952037</td>\n",
       "      <td>1023366</td>\n",
       "      <td>ALABAMA</td>\n",
       "      <td>35</td>\n",
       "      <td>AUBURNBANK</td>\n",
       "      <td>35_20221231</td>\n",
       "    </tr>\n",
       "    <tr>\n",
       "      <th>3319</th>\n",
       "      <td>DEMOPOLIS</td>\n",
       "      <td>Marengo</td>\n",
       "      <td>None</td>\n",
       "      <td>DEMOPOLIS</td>\n",
       "      <td>NM</td>\n",
       "      <td>CFR</td>\n",
       "      <td>20221231</td>\n",
       "      <td>407949</td>\n",
       "      <td>444822</td>\n",
       "      <td>ALABAMA</td>\n",
       "      <td>39</td>\n",
       "      <td>ROBERTSON BANKING CO</td>\n",
       "      <td>39_20221231</td>\n",
       "    </tr>\n",
       "    <tr>\n",
       "      <th>3376</th>\n",
       "      <td>PHENIX CITY</td>\n",
       "      <td>Russell</td>\n",
       "      <td>COLUMBUS, GA-AL</td>\n",
       "      <td>PHENIX CITY</td>\n",
       "      <td>NM</td>\n",
       "      <td>CFR</td>\n",
       "      <td>20221231</td>\n",
       "      <td>266874</td>\n",
       "      <td>265272</td>\n",
       "      <td>ALABAMA</td>\n",
       "      <td>41</td>\n",
       "      <td>PHENIX-GIRARD BANK</td>\n",
       "      <td>41_20221231</td>\n",
       "    </tr>\n",
       "    <tr>\n",
       "      <th>3491</th>\n",
       "      <td></td>\n",
       "      <td>Conecuh</td>\n",
       "      <td>None</td>\n",
       "      <td>EVERGREEN</td>\n",
       "      <td>NM</td>\n",
       "      <td>CFR</td>\n",
       "      <td>20221231</td>\n",
       "      <td>70649</td>\n",
       "      <td>76239</td>\n",
       "      <td>ALABAMA</td>\n",
       "      <td>49</td>\n",
       "      <td>BANK OF EVERGREEN</td>\n",
       "      <td>49_20221231</td>\n",
       "    </tr>\n",
       "  </tbody>\n",
       "</table>\n",
       "</div>"
      ],
      "text/plain": [
       "          CITYHCR   STCNTY                            CBSA         CITY  \\\n",
       "848        BOSTON  Suffolk  BOSTON-CAMBRIDGE-NEWTON, MA-NH       BOSTON   \n",
       "3242       AUBURN      Lee              AUBURN-OPELIKA, AL       AUBURN   \n",
       "3319    DEMOPOLIS  Marengo                            None    DEMOPOLIS   \n",
       "3376  PHENIX CITY  Russell                 COLUMBUS, GA-AL  PHENIX CITY   \n",
       "3491               Conecuh                            None    EVERGREEN   \n",
       "\n",
       "     BKCLASS INSTTYPE    REPDTE     DEPDOM      ASSET         STNAME  CERT  \\\n",
       "848       SM      CFR  20221231  163284000  298020000  MASSACHUSETTS    14   \n",
       "3242      SM      CFR  20221231     952037    1023366        ALABAMA    35   \n",
       "3319      NM      CFR  20221231     407949     444822        ALABAMA    39   \n",
       "3376      NM      CFR  20221231     266874     265272        ALABAMA    41   \n",
       "3491      NM      CFR  20221231      70649      76239        ALABAMA    49   \n",
       "\n",
       "                            NAME           ID  \n",
       "848   STATE STREET BANK&TRUST CO  14_20221231  \n",
       "3242                  AUBURNBANK  35_20221231  \n",
       "3319        ROBERTSON BANKING CO  39_20221231  \n",
       "3376          PHENIX-GIRARD BANK  41_20221231  \n",
       "3491           BANK OF EVERGREEN  49_20221231  "
      ]
     },
     "metadata": {},
     "output_type": "display_data"
    }
   ],
   "source": [
    "# params\n",
    "reporting_period = '2022-12-31'\n",
    "fields = 'REPDTE,CERT,NAME,CITY,STNAME,ASSET,DEPDOM,INSTTYPE,BKCLASS,STCNTY,CBSA,CITYHCR' # no spaces between!\n",
    "result_limit = 10000\n",
    "\n",
    "# call\n",
    "all_financial_reporting_data = get_all_financial_reporting_data(endpoint, reporting_period, fields, result_limit)\n",
    "\n",
    "# display\n",
    "if all_financial_reporting_data is not None:\n",
    "    all_financial_reporting_data = all_financial_reporting_data.sort_values('CERT')\n",
    "    display(all_financial_reporting_data.head())"
   ]
  },
  {
   "attachments": {},
   "cell_type": "markdown",
   "metadata": {},
   "source": [
    "Check data"
   ]
  },
  {
   "cell_type": "code",
   "execution_count": 72,
   "metadata": {},
   "outputs": [
    {
     "data": {
      "text/plain": [
       "(4715, 13)"
      ]
     },
     "metadata": {},
     "output_type": "display_data"
    },
    {
     "data": {
      "text/html": [
       "<div>\n",
       "<style scoped>\n",
       "    .dataframe tbody tr th:only-of-type {\n",
       "        vertical-align: middle;\n",
       "    }\n",
       "\n",
       "    .dataframe tbody tr th {\n",
       "        vertical-align: top;\n",
       "    }\n",
       "\n",
       "    .dataframe thead th {\n",
       "        text-align: right;\n",
       "    }\n",
       "</style>\n",
       "<table border=\"1\" class=\"dataframe\">\n",
       "  <thead>\n",
       "    <tr style=\"text-align: right;\">\n",
       "      <th></th>\n",
       "      <th>col1</th>\n",
       "      <th>count</th>\n",
       "    </tr>\n",
       "  </thead>\n",
       "  <tbody>\n",
       "    <tr>\n",
       "      <th>0</th>\n",
       "      <td>NM</td>\n",
       "      <td>2743</td>\n",
       "    </tr>\n",
       "    <tr>\n",
       "      <th>1</th>\n",
       "      <td>N</td>\n",
       "      <td>720</td>\n",
       "    </tr>\n",
       "    <tr>\n",
       "      <th>2</th>\n",
       "      <td>SM</td>\n",
       "      <td>701</td>\n",
       "    </tr>\n",
       "    <tr>\n",
       "      <th>3</th>\n",
       "      <td>SI</td>\n",
       "      <td>254</td>\n",
       "    </tr>\n",
       "    <tr>\n",
       "      <th>4</th>\n",
       "      <td>SB</td>\n",
       "      <td>253</td>\n",
       "    </tr>\n",
       "    <tr>\n",
       "      <th>5</th>\n",
       "      <td>SL</td>\n",
       "      <td>35</td>\n",
       "    </tr>\n",
       "    <tr>\n",
       "      <th>6</th>\n",
       "      <td>OI</td>\n",
       "      <td>9</td>\n",
       "    </tr>\n",
       "  </tbody>\n",
       "</table>\n",
       "</div>"
      ],
      "text/plain": [
       "  col1  count\n",
       "0   NM   2743\n",
       "1    N    720\n",
       "2   SM    701\n",
       "3   SI    254\n",
       "4   SB    253\n",
       "5   SL     35\n",
       "6   OI      9"
      ]
     },
     "metadata": {},
     "output_type": "display_data"
    }
   ],
   "source": [
    "display(all_financial_reporting_data.shape)\n",
    "column_to_check = 'BKCLASS'\n",
    "display(pd.DataFrame({'col1': all_financial_reporting_data[column_to_check].value_counts().index, 'count': all_financial_reporting_data[column_to_check].value_counts().values}))\n",
    "\n"
   ]
  }
 ],
 "metadata": {
  "kernelspec": {
   "display_name": "spring2023env",
   "language": "python",
   "name": "python3"
  },
  "language_info": {
   "codemirror_mode": {
    "name": "ipython",
    "version": 3
   },
   "file_extension": ".py",
   "mimetype": "text/x-python",
   "name": "python",
   "nbconvert_exporter": "python",
   "pygments_lexer": "ipython3",
   "version": "3.10.8"
  },
  "orig_nbformat": 4
 },
 "nbformat": 4,
 "nbformat_minor": 2
}

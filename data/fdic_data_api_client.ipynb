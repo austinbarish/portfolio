{
 "cells": [
  {
   "attachments": {},
   "cell_type": "markdown",
   "metadata": {},
   "source": [
    "# FDIC Data API Client\n",
    "\n",
    "By 503 Team 4"
   ]
  },
  {
   "attachments": {},
   "cell_type": "markdown",
   "metadata": {},
   "source": [
    "Source:\n",
    "https://banks.data.fdic.gov/docs/#/"
   ]
  },
  {
   "attachments": {},
   "cell_type": "markdown",
   "metadata": {},
   "source": [
    "## Code"
   ]
  },
  {
   "attachments": {},
   "cell_type": "markdown",
   "metadata": {},
   "source": [
    "Import libraries"
   ]
  },
  {
   "cell_type": "code",
   "execution_count": 8,
   "metadata": {},
   "outputs": [],
   "source": [
    "import requests\n",
    "import pandas as pd\n",
    "import json\n",
    "import urllib.parse\n"
   ]
  },
  {
   "attachments": {},
   "cell_type": "markdown",
   "metadata": {},
   "source": [
    "Code"
   ]
  },
  {
   "cell_type": "code",
   "execution_count": 39,
   "metadata": {},
   "outputs": [
    {
     "data": {
      "text/html": [
       "<div>\n",
       "<style scoped>\n",
       "    .dataframe tbody tr th:only-of-type {\n",
       "        vertical-align: middle;\n",
       "    }\n",
       "\n",
       "    .dataframe tbody tr th {\n",
       "        vertical-align: top;\n",
       "    }\n",
       "\n",
       "    .dataframe thead th {\n",
       "        text-align: right;\n",
       "    }\n",
       "</style>\n",
       "<table border=\"1\" class=\"dataframe\">\n",
       "  <thead>\n",
       "    <tr style=\"text-align: right;\">\n",
       "      <th></th>\n",
       "      <th>CITYHCR</th>\n",
       "      <th>STCNTY</th>\n",
       "      <th>CBSA</th>\n",
       "      <th>CITY</th>\n",
       "      <th>BKCLASS</th>\n",
       "      <th>INSTTYPE</th>\n",
       "      <th>REPDTE</th>\n",
       "      <th>ASSET</th>\n",
       "      <th>STNAME</th>\n",
       "      <th>CERT</th>\n",
       "      <th>DEP</th>\n",
       "      <th>NAME</th>\n",
       "      <th>ID</th>\n",
       "    </tr>\n",
       "  </thead>\n",
       "  <tbody>\n",
       "    <tr>\n",
       "      <th>849</th>\n",
       "      <td>BOSTON</td>\n",
       "      <td>Suffolk</td>\n",
       "      <td>BOSTON-CAMBRIDGE-NEWTON, MA-NH</td>\n",
       "      <td>BOSTON</td>\n",
       "      <td>SM</td>\n",
       "      <td>CFR</td>\n",
       "      <td>20221231</td>\n",
       "      <td>298020000</td>\n",
       "      <td>MASSACHUSETTS</td>\n",
       "      <td>14</td>\n",
       "      <td>241844000</td>\n",
       "      <td>STATE STREET BANK&amp;TRUST CO</td>\n",
       "      <td>14_20221231</td>\n",
       "    </tr>\n",
       "    <tr>\n",
       "      <th>3275</th>\n",
       "      <td>AUBURN</td>\n",
       "      <td>Lee</td>\n",
       "      <td>AUBURN-OPELIKA, AL</td>\n",
       "      <td>AUBURN</td>\n",
       "      <td>SM</td>\n",
       "      <td>CFR</td>\n",
       "      <td>20221231</td>\n",
       "      <td>1023366</td>\n",
       "      <td>ALABAMA</td>\n",
       "      <td>35</td>\n",
       "      <td>952037</td>\n",
       "      <td>AUBURNBANK</td>\n",
       "      <td>35_20221231</td>\n",
       "    </tr>\n",
       "    <tr>\n",
       "      <th>3352</th>\n",
       "      <td>DEMOPOLIS</td>\n",
       "      <td>Marengo</td>\n",
       "      <td>None</td>\n",
       "      <td>DEMOPOLIS</td>\n",
       "      <td>NM</td>\n",
       "      <td>CFR</td>\n",
       "      <td>20221231</td>\n",
       "      <td>444822</td>\n",
       "      <td>ALABAMA</td>\n",
       "      <td>39</td>\n",
       "      <td>407949</td>\n",
       "      <td>ROBERTSON BANKING CO</td>\n",
       "      <td>39_20221231</td>\n",
       "    </tr>\n",
       "    <tr>\n",
       "      <th>3409</th>\n",
       "      <td>PHENIX CITY</td>\n",
       "      <td>Russell</td>\n",
       "      <td>COLUMBUS, GA-AL</td>\n",
       "      <td>PHENIX CITY</td>\n",
       "      <td>NM</td>\n",
       "      <td>CFR</td>\n",
       "      <td>20221231</td>\n",
       "      <td>265272</td>\n",
       "      <td>ALABAMA</td>\n",
       "      <td>41</td>\n",
       "      <td>266874</td>\n",
       "      <td>PHENIX-GIRARD BANK</td>\n",
       "      <td>41_20221231</td>\n",
       "    </tr>\n",
       "    <tr>\n",
       "      <th>3524</th>\n",
       "      <td></td>\n",
       "      <td>Conecuh</td>\n",
       "      <td>None</td>\n",
       "      <td>EVERGREEN</td>\n",
       "      <td>NM</td>\n",
       "      <td>CFR</td>\n",
       "      <td>20221231</td>\n",
       "      <td>76239</td>\n",
       "      <td>ALABAMA</td>\n",
       "      <td>49</td>\n",
       "      <td>70649</td>\n",
       "      <td>BANK OF EVERGREEN</td>\n",
       "      <td>49_20221231</td>\n",
       "    </tr>\n",
       "  </tbody>\n",
       "</table>\n",
       "</div>"
      ],
      "text/plain": [
       "          CITYHCR   STCNTY                            CBSA         CITY  \\\n",
       "849        BOSTON  Suffolk  BOSTON-CAMBRIDGE-NEWTON, MA-NH       BOSTON   \n",
       "3275       AUBURN      Lee              AUBURN-OPELIKA, AL       AUBURN   \n",
       "3352    DEMOPOLIS  Marengo                            None    DEMOPOLIS   \n",
       "3409  PHENIX CITY  Russell                 COLUMBUS, GA-AL  PHENIX CITY   \n",
       "3524               Conecuh                            None    EVERGREEN   \n",
       "\n",
       "     BKCLASS INSTTYPE    REPDTE      ASSET         STNAME  CERT        DEP  \\\n",
       "849       SM      CFR  20221231  298020000  MASSACHUSETTS    14  241844000   \n",
       "3275      SM      CFR  20221231    1023366        ALABAMA    35     952037   \n",
       "3352      NM      CFR  20221231     444822        ALABAMA    39     407949   \n",
       "3409      NM      CFR  20221231     265272        ALABAMA    41     266874   \n",
       "3524      NM      CFR  20221231      76239        ALABAMA    49      70649   \n",
       "\n",
       "                            NAME           ID  \n",
       "849   STATE STREET BANK&TRUST CO  14_20221231  \n",
       "3275                  AUBURNBANK  35_20221231  \n",
       "3352        ROBERTSON BANKING CO  39_20221231  \n",
       "3409          PHENIX-GIRARD BANK  41_20221231  \n",
       "3524           BANK OF EVERGREEN  49_20221231  "
      ]
     },
     "metadata": {},
     "output_type": "display_data"
    }
   ],
   "source": [
    "\n",
    "\n",
    "# Endpoint\n",
    "endpoint = 'https://banks.data.fdic.gov/api/'\n",
    "\n",
    "# Define a function to get financial reporting data for all banks\n",
    "def get_all_financial_reporting_data(endpoint, start_date, end_date, fields, result_limit=5000):\n",
    "    offset = 0\n",
    "    financials = []\n",
    "    \n",
    "    #while True:\n",
    "    fields_encoded = urllib.parse.quote(fields, safe='')\n",
    "    #url = f'{endpoint}financials?reporting_period={reporting_period}&fields={fields_encoded}&limit={result_limit}&offset={offset}'\n",
    "    url = f'{endpoint}financials?filters=RISDATE:[{start_date}%20 TO %20{end_date}]&fields={fields_encoded}&limit={result_limit}&sort_by=REPDTE&sort_order=ASC'\n",
    "    response = requests.get(url)\n",
    "\n",
    "    if response.status_code == 200:\n",
    "        data = response.json()\n",
    "\n",
    "        # Normalize the JSON response into a flattened DataFrame\n",
    "        #df = pd.json_normalize(data, record_path=['data'])\n",
    "\n",
    "        # Print the DataFrame\n",
    "        #print(df)\n",
    "\n",
    "        # Use the 'data' key and extract the nested 'data' values\n",
    "        financial_data = [item['data'] for item in data['data']]\n",
    "        financials.extend(financial_data)\n",
    "        \n",
    "\n",
    "        # Break the loop if the length of the financial data is less than the result_limit\n",
    "        #if len(financial_data) < result_limit:\n",
    "        #    break\n",
    "\n",
    "        offset += result_limit\n",
    "    else:\n",
    "        print(f'Request failed with status code {response.status_code}')\n",
    "        return None\n",
    "\n",
    "    return pd.DataFrame(financials)\n",
    "\n",
    "# Example usage\n",
    "reporting_period = '2020-12-31'\n",
    "start_date = '2022-12-01'\n",
    "end_date = '2022-12-31'\n",
    "fields = 'REPDTE,CERT,NAME,CITY,STNAME,ASSET,DEP,INSTTYPE,BKCLASS,STCNTY,CBSA,CITYHCR' # no spaces between!\n",
    "result_limit = 10000\n",
    "\n",
    "all_financial_reporting_data = get_all_financial_reporting_data(endpoint, start_date, end_date, fields, result_limit)\n",
    "if all_financial_reporting_data is not None:\n",
    "    all_financial_reporting_data = all_financial_reporting_data.sort_values('CERT')\n",
    "\n",
    "    display(all_financial_reporting_data.head())\n"
   ]
  },
  {
   "cell_type": "code",
   "execution_count": 40,
   "metadata": {},
   "outputs": [
    {
     "data": {
      "text/plain": [
       "(4773, 13)"
      ]
     },
     "metadata": {},
     "output_type": "display_data"
    },
    {
     "data": {
      "text/html": [
       "<div>\n",
       "<style scoped>\n",
       "    .dataframe tbody tr th:only-of-type {\n",
       "        vertical-align: middle;\n",
       "    }\n",
       "\n",
       "    .dataframe tbody tr th {\n",
       "        vertical-align: top;\n",
       "    }\n",
       "\n",
       "    .dataframe thead th {\n",
       "        text-align: right;\n",
       "    }\n",
       "</style>\n",
       "<table border=\"1\" class=\"dataframe\">\n",
       "  <thead>\n",
       "    <tr style=\"text-align: right;\">\n",
       "      <th></th>\n",
       "      <th>col1</th>\n",
       "      <th>count</th>\n",
       "    </tr>\n",
       "  </thead>\n",
       "  <tbody>\n",
       "    <tr>\n",
       "      <th>0</th>\n",
       "      <td>CFR</td>\n",
       "      <td>4185</td>\n",
       "    </tr>\n",
       "    <tr>\n",
       "      <th>1</th>\n",
       "      <td>TFR</td>\n",
       "      <td>579</td>\n",
       "    </tr>\n",
       "    <tr>\n",
       "      <th>2</th>\n",
       "      <td>N/A</td>\n",
       "      <td>9</td>\n",
       "    </tr>\n",
       "  </tbody>\n",
       "</table>\n",
       "</div>"
      ],
      "text/plain": [
       "  col1  count\n",
       "0  CFR   4185\n",
       "1  TFR    579\n",
       "2  N/A      9"
      ]
     },
     "metadata": {},
     "output_type": "display_data"
    }
   ],
   "source": [
    "display(all_financial_reporting_data.shape)\n",
    "# convert the value_counts Series to a DataFrame\n",
    "column_to_check = 'INSTTYPE'\n",
    "display(pd.DataFrame({'col1': all_financial_reporting_data[column_to_check].value_counts().index, 'count': all_financial_reporting_data[column_to_check].value_counts().values}))\n",
    "\n"
   ]
  },
  {
   "cell_type": "code",
   "execution_count": 38,
   "metadata": {},
   "outputs": [
    {
     "data": {
      "text/plain": [
       "10004    1\n",
       "10012    1\n",
       "10044    1\n",
       "10055    1\n",
       "10057    1\n",
       "        ..\n",
       "9997     1\n",
       "9998     1\n",
       "999      1\n",
       "9963     1\n",
       "99       1\n",
       "Name: CERT, Length: 4773, dtype: int64"
      ]
     },
     "execution_count": 38,
     "metadata": {},
     "output_type": "execute_result"
    }
   ],
   "source": [
    "all_financial_reporting_data['CERT'].value_counts().sort_values(ascending=False)"
   ]
  }
 ],
 "metadata": {
  "kernelspec": {
   "display_name": "spring2023env",
   "language": "python",
   "name": "python3"
  },
  "language_info": {
   "codemirror_mode": {
    "name": "ipython",
    "version": 3
   },
   "file_extension": ".py",
   "mimetype": "text/x-python",
   "name": "python",
   "nbconvert_exporter": "python",
   "pygments_lexer": "ipython3",
   "version": "3.10.8"
  },
  "orig_nbformat": 4
 },
 "nbformat": 4,
 "nbformat_minor": 2
}

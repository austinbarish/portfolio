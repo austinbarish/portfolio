{
 "cells": [
  {
   "attachments": {},
   "cell_type": "markdown",
   "metadata": {},
   "source": [
    "# FDIC Data API Client\n",
    "\n",
    "By 503 Team 4"
   ]
  },
  {
   "attachments": {},
   "cell_type": "markdown",
   "metadata": {},
   "source": [
    "Source:\n",
    "https://banks.data.fdic.gov/docs/#/"
   ]
  },
  {
   "attachments": {},
   "cell_type": "markdown",
   "metadata": {},
   "source": [
    "## Code"
   ]
  },
  {
   "attachments": {},
   "cell_type": "markdown",
   "metadata": {},
   "source": [
    "Import libraries"
   ]
  },
  {
   "cell_type": "code",
   "execution_count": 2,
   "metadata": {},
   "outputs": [],
   "source": [
    "import requests\n",
    "import pandas as pd\n",
    "import json\n",
    "import urllib.parse\n"
   ]
  },
  {
   "attachments": {},
   "cell_type": "markdown",
   "metadata": {},
   "source": [
    "Define function"
   ]
  },
  {
   "cell_type": "code",
   "execution_count": 3,
   "metadata": {},
   "outputs": [],
   "source": [
    "# set endpoint\n",
    "endpoint = 'https://banks.data.fdic.gov/api/'\n",
    "\n",
    "# function\n",
    "def get_all_financial_reporting_data(endpoint, reporting_period, fields, result_limit=5000):\n",
    "    \"\"\"\n",
    "    NC (Noninsured non-deposit commercial banks) are removed below to match the query of the FDIC site https://banks.data.fdic.gov/bankfind-suite/financialreporting\n",
    "    \"\"\"\n",
    "    \n",
    "    \n",
    "    # initialize data list\n",
    "    financials = []\n",
    "    \n",
    "    # query\n",
    "    fields_encoded = urllib.parse.quote(fields, safe='')\n",
    "    url = f'{endpoint}financials?filters=RISDATE:{reporting_period} AND !(BKCLASS:\"NC\")&fields={fields_encoded}&limit={result_limit}&sort_by=REPDTE&sort_order=ASC'\n",
    "    \n",
    "    # get response\n",
    "    response = requests.get(url)\n",
    "\n",
    "    if response.status_code == 200:\n",
    "        # response to json\n",
    "        data = response.json()\n",
    "\n",
    "        # store response data\n",
    "        financial_data = [item['data'] for item in data['data']]\n",
    "        financials.extend(financial_data)\n",
    "\n",
    "    else:\n",
    "        print(f'Request failed with status code {response.status_code}')\n",
    "        return None\n",
    "\n",
    "    return pd.DataFrame(financials)\n"
   ]
  },
  {
   "attachments": {},
   "cell_type": "markdown",
   "metadata": {},
   "source": [
    "Query the data"
   ]
  },
  {
   "cell_type": "code",
   "execution_count": 93,
   "metadata": {},
   "outputs": [
    {
     "data": {
      "text/html": [
       "<div>\n",
       "<style scoped>\n",
       "    .dataframe tbody tr th:only-of-type {\n",
       "        vertical-align: middle;\n",
       "    }\n",
       "\n",
       "    .dataframe tbody tr th {\n",
       "        vertical-align: top;\n",
       "    }\n",
       "\n",
       "    .dataframe thead th {\n",
       "        text-align: right;\n",
       "    }\n",
       "</style>\n",
       "<table border=\"1\" class=\"dataframe\">\n",
       "  <thead>\n",
       "    <tr style=\"text-align: right;\">\n",
       "      <th></th>\n",
       "      <th>ZIP</th>\n",
       "      <th>BKCLASS</th>\n",
       "      <th>REPDTE</th>\n",
       "      <th>DEPDOM</th>\n",
       "      <th>ASSET</th>\n",
       "      <th>STNAME</th>\n",
       "      <th>EQ</th>\n",
       "      <th>NAME</th>\n",
       "      <th>CITY</th>\n",
       "      <th>ADDRESS</th>\n",
       "      <th>ENDEFYMD</th>\n",
       "      <th>CERT</th>\n",
       "      <th>ESTYMD</th>\n",
       "      <th>LIAB</th>\n",
       "      <th>ID</th>\n",
       "    </tr>\n",
       "  </thead>\n",
       "  <tbody>\n",
       "    <tr>\n",
       "      <th>7</th>\n",
       "      <td>48858</td>\n",
       "      <td>SM</td>\n",
       "      <td>20221231</td>\n",
       "      <td>1753341</td>\n",
       "      <td>1981367</td>\n",
       "      <td>MICHIGAN</td>\n",
       "      <td>157576</td>\n",
       "      <td>ISABELLA BANK</td>\n",
       "      <td>MOUNT PLEASANT</td>\n",
       "      <td>200 E BROADWAY ST</td>\n",
       "      <td>99991231</td>\n",
       "      <td>1005</td>\n",
       "      <td>19030701</td>\n",
       "      <td>1823791</td>\n",
       "      <td>1005_20221231</td>\n",
       "    </tr>\n",
       "    <tr>\n",
       "      <th>12</th>\n",
       "      <td>49230</td>\n",
       "      <td>SM</td>\n",
       "      <td>20221231</td>\n",
       "      <td>101624</td>\n",
       "      <td>113473</td>\n",
       "      <td>MICHIGAN</td>\n",
       "      <td>10543</td>\n",
       "      <td>BANK MICHIGAN</td>\n",
       "      <td>BROOKLYN</td>\n",
       "      <td>417 S MAIN ST</td>\n",
       "      <td>99991231</td>\n",
       "      <td>1008</td>\n",
       "      <td>19071001</td>\n",
       "      <td>102930</td>\n",
       "      <td>1008_20221231</td>\n",
       "    </tr>\n",
       "    <tr>\n",
       "      <th>25</th>\n",
       "      <td>49345</td>\n",
       "      <td>SM</td>\n",
       "      <td>20221231</td>\n",
       "      <td>2126308</td>\n",
       "      <td>2382585</td>\n",
       "      <td>MICHIGAN</td>\n",
       "      <td>192540</td>\n",
       "      <td>CHOICEONE BANK</td>\n",
       "      <td>SPARTA</td>\n",
       "      <td>109 E DIVISION ST</td>\n",
       "      <td>99991231</td>\n",
       "      <td>1014</td>\n",
       "      <td>18980101</td>\n",
       "      <td>2190045</td>\n",
       "      <td>1014_20221231</td>\n",
       "    </tr>\n",
       "    <tr>\n",
       "      <th>49</th>\n",
       "      <td>53818</td>\n",
       "      <td>N</td>\n",
       "      <td>20221231</td>\n",
       "      <td>306266</td>\n",
       "      <td>331939</td>\n",
       "      <td>WISCONSIN</td>\n",
       "      <td>16877</td>\n",
       "      <td>CLARE BANK NATIONAL ASSN</td>\n",
       "      <td>PLATTEVILLE</td>\n",
       "      <td>345 W PINE ST</td>\n",
       "      <td>99991231</td>\n",
       "      <td>1022</td>\n",
       "      <td>19051028</td>\n",
       "      <td>315062</td>\n",
       "      <td>1022_20221231</td>\n",
       "    </tr>\n",
       "    <tr>\n",
       "      <th>0</th>\n",
       "      <td>53946</td>\n",
       "      <td>NM</td>\n",
       "      <td>20221231</td>\n",
       "      <td>123276</td>\n",
       "      <td>148421</td>\n",
       "      <td>WISCONSIN</td>\n",
       "      <td>10659</td>\n",
       "      <td>ERGO BANK</td>\n",
       "      <td>MARKESAN</td>\n",
       "      <td>86 E WATER ST</td>\n",
       "      <td>99991231</td>\n",
       "      <td>10004</td>\n",
       "      <td>19100120</td>\n",
       "      <td>137762</td>\n",
       "      <td>10004_20221231</td>\n",
       "    </tr>\n",
       "  </tbody>\n",
       "</table>\n",
       "</div>"
      ],
      "text/plain": [
       "      ZIP BKCLASS    REPDTE   DEPDOM    ASSET     STNAME      EQ  \\\n",
       "7   48858      SM  20221231  1753341  1981367   MICHIGAN  157576   \n",
       "12  49230      SM  20221231   101624   113473   MICHIGAN   10543   \n",
       "25  49345      SM  20221231  2126308  2382585   MICHIGAN  192540   \n",
       "49  53818       N  20221231   306266   331939  WISCONSIN   16877   \n",
       "0   53946      NM  20221231   123276   148421  WISCONSIN   10659   \n",
       "\n",
       "                        NAME            CITY            ADDRESS  ENDEFYMD  \\\n",
       "7              ISABELLA BANK  MOUNT PLEASANT  200 E BROADWAY ST  99991231   \n",
       "12             BANK MICHIGAN        BROOKLYN      417 S MAIN ST  99991231   \n",
       "25            CHOICEONE BANK          SPARTA  109 E DIVISION ST  99991231   \n",
       "49  CLARE BANK NATIONAL ASSN     PLATTEVILLE      345 W PINE ST  99991231   \n",
       "0                  ERGO BANK        MARKESAN      86 E WATER ST  99991231   \n",
       "\n",
       "     CERT    ESTYMD     LIAB              ID  \n",
       "7    1005  19030701  1823791   1005_20221231  \n",
       "12   1008  19071001   102930   1008_20221231  \n",
       "25   1014  18980101  2190045   1014_20221231  \n",
       "49   1022  19051028   315062   1022_20221231  \n",
       "0   10004  19100120   137762  10004_20221231  "
      ]
     },
     "metadata": {},
     "output_type": "display_data"
    }
   ],
   "source": [
    "# params\n",
    "reporting_period = '2022-12-31'\n",
    "fields = 'REPDTE,CERT,NAME,CITY,STNAME,ASSET,DEPDOM,BKCLASS,ADDRESS,ZIP,EQ,LIAB,ESTYMD,ENDEFYMD,' # no spaces between!\n",
    "result_limit = 50\n",
    "\n",
    "# call\n",
    "all_financial_reporting_data = get_all_financial_reporting_data(endpoint, reporting_period, fields, result_limit)\n",
    "\n",
    "# display\n",
    "if all_financial_reporting_data is not None:\n",
    "    all_financial_reporting_data = all_financial_reporting_data.sort_values('CERT')\n",
    "    display(all_financial_reporting_data.head())\n",
    "    all_financial_reporting_data.to_csv(f'quarterly_financials/{reporting_period}_quarterly_financials.csv', index=False)\n"
   ]
  },
  {
   "attachments": {},
   "cell_type": "markdown",
   "metadata": {},
   "source": [
    "Check data"
   ]
  },
  {
   "cell_type": "code",
   "execution_count": 77,
   "metadata": {},
   "outputs": [
    {
     "data": {
      "text/plain": [
       "(4715, 15)"
      ]
     },
     "metadata": {},
     "output_type": "display_data"
    },
    {
     "data": {
      "text/html": [
       "<div>\n",
       "<style scoped>\n",
       "    .dataframe tbody tr th:only-of-type {\n",
       "        vertical-align: middle;\n",
       "    }\n",
       "\n",
       "    .dataframe tbody tr th {\n",
       "        vertical-align: top;\n",
       "    }\n",
       "\n",
       "    .dataframe thead th {\n",
       "        text-align: right;\n",
       "    }\n",
       "</style>\n",
       "<table border=\"1\" class=\"dataframe\">\n",
       "  <thead>\n",
       "    <tr style=\"text-align: right;\">\n",
       "      <th></th>\n",
       "      <th>col1</th>\n",
       "      <th>count</th>\n",
       "    </tr>\n",
       "  </thead>\n",
       "  <tbody>\n",
       "    <tr>\n",
       "      <th>0</th>\n",
       "      <td>1</td>\n",
       "      <td>4715</td>\n",
       "    </tr>\n",
       "  </tbody>\n",
       "</table>\n",
       "</div>"
      ],
      "text/plain": [
       "   col1  count\n",
       "0     1   4715"
      ]
     },
     "metadata": {},
     "output_type": "display_data"
    }
   ],
   "source": [
    "display(all_financial_reporting_data.shape)\n",
    "column_to_check = 'ACTIVE'\n",
    "display(pd.DataFrame({'col1': all_financial_reporting_data[column_to_check].value_counts().index, 'count': all_financial_reporting_data[column_to_check].value_counts().values}))\n",
    "\n"
   ]
  },
  {
   "attachments": {},
   "cell_type": "markdown",
   "metadata": {},
   "source": [
    "Get the last quarter for the past 30 years"
   ]
  },
  {
   "cell_type": "code",
   "execution_count": 4,
   "metadata": {},
   "outputs": [
    {
     "name": "stdout",
     "output_type": "stream",
     "text": [
      "1992-03-31 done\n"
     ]
    }
   ],
   "source": [
    "today = pd.Timestamp.now().date()\n",
    "\n",
    "\n",
    "# define the start and end dates of the range (inclusive)\n",
    "start_date = '1992-03-31'\n",
    "end_date = '2012-03-31'\n",
    "\n",
    "# generate a list of dates within the range, with a frequency of 1 quarter\n",
    "dates = pd.date_range(start=start_date, end=end_date, freq='Q')\n",
    "\n",
    "# loop\n",
    "for date in dates:\n",
    "\n",
    "    # get end of quarter\n",
    "    end_of_quarter = date.strftime('%Y-%m-%d') # format\n",
    "    \n",
    "    fields = 'REPDTE,CERT,NAME,CITY,STNAME,ASSET,DEPDOM,BKCLASS,ADDRESS,ZIP,EQ,LIAB,ESTYMD,ENDEFYMD,' # no spaces between!\n",
    "    result_limit = 10000\n",
    "\n",
    "    # call\n",
    "    all_financial_reporting_data = get_all_financial_reporting_data(endpoint, end_of_quarter, fields, result_limit)\n",
    "\n",
    "    # display\n",
    "    if all_financial_reporting_data is not None:\n",
    "        all_financial_reporting_data = all_financial_reporting_data.sort_values('CERT')\n",
    "        all_financial_reporting_data.to_csv(f'../../data/quarterly_financials/{end_of_quarter}_quarterly_financials.csv', index=False)\n",
    "        print(f'{end_of_quarter} done')\n"
   ]
  }
 ],
 "metadata": {
  "kernelspec": {
   "display_name": "spring2023env",
   "language": "python",
   "name": "python3"
  },
  "language_info": {
   "codemirror_mode": {
    "name": "ipython",
    "version": 3
   },
   "file_extension": ".py",
   "mimetype": "text/x-python",
   "name": "python",
   "nbconvert_exporter": "python",
   "pygments_lexer": "ipython3",
   "version": "3.10.8"
  },
  "orig_nbformat": 4
 },
 "nbformat": 4,
 "nbformat_minor": 2
}

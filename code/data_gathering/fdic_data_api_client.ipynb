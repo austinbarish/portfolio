{
 "cells": [
  {
   "attachments": {},
   "cell_type": "markdown",
   "metadata": {},
   "source": [
    "# FDIC Data API Client\n",
    "\n",
    "By 503 Team 4"
   ]
  },
  {
   "attachments": {},
   "cell_type": "markdown",
   "metadata": {},
   "source": [
    "Source:\n",
    "https://banks.data.fdic.gov/docs/#/"
   ]
  },
  {
   "attachments": {},
   "cell_type": "markdown",
   "metadata": {},
   "source": [
    "## Code"
   ]
  },
  {
   "attachments": {},
   "cell_type": "markdown",
   "metadata": {},
   "source": [
    "Import libraries"
   ]
  },
  {
   "cell_type": "code",
   "execution_count": 1,
   "metadata": {},
   "outputs": [],
   "source": [
    "import requests\n",
    "import pandas as pd\n",
    "import json\n",
    "import urllib.parse\n"
   ]
  },
  {
   "attachments": {},
   "cell_type": "markdown",
   "metadata": {},
   "source": [
    "Define function"
   ]
  },
  {
   "cell_type": "code",
   "execution_count": 5,
   "metadata": {},
   "outputs": [],
   "source": [
    "# set endpoint\n",
    "endpoint = 'https://banks.data.fdic.gov/api/'\n",
    "\n",
    "# function\n",
    "def get_all_financial_reporting_data(endpoint, reporting_period, fields, result_limit=5000):\n",
    "    \"\"\"\n",
    "    NC (Noninsured non-deposit commercial banks) are removed below to match the query of the FDIC site https://banks.data.fdic.gov/bankfind-suite/financialreporting\n",
    "    \"\"\"\n",
    "    \n",
    "    \n",
    "    # initialize data list\n",
    "    financials = []\n",
    "    \n",
    "    # query\n",
    "    fields_encoded = urllib.parse.quote(fields, safe='')\n",
    "    url = f'{endpoint}financials?filters=RISDATE:{reporting_period} AND !(BKCLASS:\"NC\")&fields={fields_encoded}&limit={result_limit}&sort_by=REPDTE&sort_order=ASC'\n",
    "    \n",
    "    # get response\n",
    "    response = requests.get(url)\n",
    "\n",
    "    if response.status_code == 200:\n",
    "        # response to json\n",
    "        data = response.json()\n",
    "\n",
    "        # store response data\n",
    "        financial_data = [item['data'] for item in data['data']]\n",
    "        financials.extend(financial_data)\n",
    "\n",
    "    else:\n",
    "        print(f'Request failed with status code {response.status_code}')\n",
    "        return None\n",
    "\n",
    "    return pd.DataFrame(financials)\n"
   ]
  },
  {
   "attachments": {},
   "cell_type": "markdown",
   "metadata": {},
   "source": [
    "Query the data"
   ]
  },
  {
   "cell_type": "code",
   "execution_count": 17,
   "metadata": {},
   "outputs": [
    {
     "data": {
      "text/html": [
       "<div>\n",
       "<style scoped>\n",
       "    .dataframe tbody tr th:only-of-type {\n",
       "        vertical-align: middle;\n",
       "    }\n",
       "\n",
       "    .dataframe tbody tr th {\n",
       "        vertical-align: top;\n",
       "    }\n",
       "\n",
       "    .dataframe thead th {\n",
       "        text-align: right;\n",
       "    }\n",
       "</style>\n",
       "<table border=\"1\" class=\"dataframe\">\n",
       "  <thead>\n",
       "    <tr style=\"text-align: right;\">\n",
       "      <th></th>\n",
       "      <th>ZIP</th>\n",
       "      <th>BKCLASS</th>\n",
       "      <th>REPDTE</th>\n",
       "      <th>DEPDOM</th>\n",
       "      <th>ASSET</th>\n",
       "      <th>STNAME</th>\n",
       "      <th>EQ</th>\n",
       "      <th>NAME</th>\n",
       "      <th>CITY</th>\n",
       "      <th>ADDRESS</th>\n",
       "      <th>ENDEFYMD</th>\n",
       "      <th>CERT</th>\n",
       "      <th>ESTYMD</th>\n",
       "      <th>LIAB</th>\n",
       "      <th>ID</th>\n",
       "    </tr>\n",
       "  </thead>\n",
       "  <tbody>\n",
       "    <tr>\n",
       "      <th>848</th>\n",
       "      <td>2111</td>\n",
       "      <td>SM</td>\n",
       "      <td>20221231</td>\n",
       "      <td>163284000</td>\n",
       "      <td>298020000</td>\n",
       "      <td>MASSACHUSETTS</td>\n",
       "      <td>26579000.0</td>\n",
       "      <td>STATE STREET BANK&amp;TRUST CO</td>\n",
       "      <td>BOSTON</td>\n",
       "      <td>1 LINCOLN ST</td>\n",
       "      <td>99991231</td>\n",
       "      <td>14</td>\n",
       "      <td>17920101</td>\n",
       "      <td>271441000</td>\n",
       "      <td>14_20221231</td>\n",
       "    </tr>\n",
       "    <tr>\n",
       "      <th>3242</th>\n",
       "      <td>36830</td>\n",
       "      <td>SM</td>\n",
       "      <td>20221231</td>\n",
       "      <td>952037</td>\n",
       "      <td>1023366</td>\n",
       "      <td>ALABAMA</td>\n",
       "      <td>65967.0</td>\n",
       "      <td>AUBURNBANK</td>\n",
       "      <td>AUBURN</td>\n",
       "      <td>100 N GAY ST</td>\n",
       "      <td>99991231</td>\n",
       "      <td>35</td>\n",
       "      <td>19070103</td>\n",
       "      <td>957399</td>\n",
       "      <td>35_20221231</td>\n",
       "    </tr>\n",
       "    <tr>\n",
       "      <th>3319</th>\n",
       "      <td>36732</td>\n",
       "      <td>NM</td>\n",
       "      <td>20221231</td>\n",
       "      <td>407949</td>\n",
       "      <td>444822</td>\n",
       "      <td>ALABAMA</td>\n",
       "      <td>32577.0</td>\n",
       "      <td>ROBERTSON BANKING CO</td>\n",
       "      <td>DEMOPOLIS</td>\n",
       "      <td>216 N WALNUT AVE</td>\n",
       "      <td>99991231</td>\n",
       "      <td>39</td>\n",
       "      <td>18700101</td>\n",
       "      <td>412245</td>\n",
       "      <td>39_20221231</td>\n",
       "    </tr>\n",
       "    <tr>\n",
       "      <th>3376</th>\n",
       "      <td>36867</td>\n",
       "      <td>NM</td>\n",
       "      <td>20221231</td>\n",
       "      <td>266874</td>\n",
       "      <td>265272</td>\n",
       "      <td>ALABAMA</td>\n",
       "      <td>-8465.0</td>\n",
       "      <td>PHENIX-GIRARD BANK</td>\n",
       "      <td>PHENIX CITY</td>\n",
       "      <td>801 13TH ST</td>\n",
       "      <td>99991231</td>\n",
       "      <td>41</td>\n",
       "      <td>19040504</td>\n",
       "      <td>273737</td>\n",
       "      <td>41_20221231</td>\n",
       "    </tr>\n",
       "    <tr>\n",
       "      <th>3491</th>\n",
       "      <td>36401</td>\n",
       "      <td>NM</td>\n",
       "      <td>20221231</td>\n",
       "      <td>70649</td>\n",
       "      <td>76239</td>\n",
       "      <td>ALABAMA</td>\n",
       "      <td>5487.0</td>\n",
       "      <td>BANK OF EVERGREEN</td>\n",
       "      <td>EVERGREEN</td>\n",
       "      <td>146 W FRONT ST</td>\n",
       "      <td>99991231</td>\n",
       "      <td>49</td>\n",
       "      <td>19320901</td>\n",
       "      <td>70752</td>\n",
       "      <td>49_20221231</td>\n",
       "    </tr>\n",
       "  </tbody>\n",
       "</table>\n",
       "</div>"
      ],
      "text/plain": [
       "        ZIP BKCLASS    REPDTE     DEPDOM      ASSET         STNAME  \\\n",
       "848    2111      SM  20221231  163284000  298020000  MASSACHUSETTS   \n",
       "3242  36830      SM  20221231     952037    1023366        ALABAMA   \n",
       "3319  36732      NM  20221231     407949     444822        ALABAMA   \n",
       "3376  36867      NM  20221231     266874     265272        ALABAMA   \n",
       "3491  36401      NM  20221231      70649      76239        ALABAMA   \n",
       "\n",
       "              EQ                        NAME         CITY           ADDRESS  \\\n",
       "848   26579000.0  STATE STREET BANK&TRUST CO       BOSTON      1 LINCOLN ST   \n",
       "3242     65967.0                  AUBURNBANK       AUBURN      100 N GAY ST   \n",
       "3319     32577.0        ROBERTSON BANKING CO    DEMOPOLIS  216 N WALNUT AVE   \n",
       "3376     -8465.0          PHENIX-GIRARD BANK  PHENIX CITY       801 13TH ST   \n",
       "3491      5487.0           BANK OF EVERGREEN    EVERGREEN    146 W FRONT ST   \n",
       "\n",
       "      ENDEFYMD  CERT    ESTYMD       LIAB           ID  \n",
       "848   99991231    14  17920101  271441000  14_20221231  \n",
       "3242  99991231    35  19070103     957399  35_20221231  \n",
       "3319  99991231    39  18700101     412245  39_20221231  \n",
       "3376  99991231    41  19040504     273737  41_20221231  \n",
       "3491  99991231    49  19320901      70752  49_20221231  "
      ]
     },
     "metadata": {},
     "output_type": "display_data"
    }
   ],
   "source": [
    "# params\n",
    "reporting_period = '2022-12-31'\n",
    "fields = 'REPDTE,CERT,NAME,CITY,STNAME,ASSET,DEPDOM,BKCLASS,ADDRESS,ZIP,EQ,LIAB,ESTYMD,ENDEFYMD,' # no spaces between!\n",
    "result_limit = 10000\n",
    "\n",
    "# call\n",
    "all_financial_reporting_data = get_all_financial_reporting_data(endpoint, reporting_period, fields, result_limit)\n",
    "\n",
    "# display\n",
    "if all_financial_reporting_data is not None:\n",
    "    all_financial_reporting_data = all_financial_reporting_data.sort_values('CERT')\n",
    "    display(all_financial_reporting_data.head())\n",
    "    #all_financial_reporting_data.to_csv(f'../../data/quarterly_financials/{reporting_period}_quarterly_financials.csv', index=False) # save\n"
   ]
  },
  {
   "attachments": {},
   "cell_type": "markdown",
   "metadata": {},
   "source": [
    "Check data"
   ]
  },
  {
   "cell_type": "code",
   "execution_count": 19,
   "metadata": {},
   "outputs": [
    {
     "data": {
      "text/plain": [
       "(4715, 15)"
      ]
     },
     "metadata": {},
     "output_type": "display_data"
    }
   ],
   "source": [
    "display(all_financial_reporting_data.shape)\n",
    "#column_to_check = 'ACTIVE'\n",
    "#display(pd.DataFrame({'col1': all_financial_reporting_data[column_to_check].value_counts().index, 'count': all_financial_reporting_data[column_to_check].value_counts().values}))\n",
    "\n"
   ]
  },
  {
   "attachments": {},
   "cell_type": "markdown",
   "metadata": {},
   "source": [
    "Get the last quarter for the past 30 years"
   ]
  },
  {
   "cell_type": "code",
   "execution_count": null,
   "metadata": {},
   "outputs": [],
   "source": [
    "today = pd.Timestamp.now().date()\n",
    "\n",
    "\n",
    "# define the start and end dates of the range (inclusive)\n",
    "start_date = '2012-06-31'\n",
    "end_date = '2013-03-31'\n",
    "\n",
    "# generate a list of dates within the range, with a frequency of 1 quarter\n",
    "dates = pd.date_range(start=start_date, end=end_date, freq='Q')\n",
    "\n",
    "# loop\n",
    "for date in dates:\n",
    "\n",
    "    # get end of quarter\n",
    "    end_of_quarter = date.strftime('%Y-%m-%d') # format\n",
    "    \n",
    "    fields = 'REPDTE,CERT,NAME,CITY,STNAME,ASSET,DEPDOM,BKCLASS,ADDRESS,ZIP,EQ,LIAB,ESTYMD,ENDEFYMD,' # no spaces between!\n",
    "    result_limit = 10000\n",
    "\n",
    "    # call\n",
    "    all_financial_reporting_data = get_all_financial_reporting_data(endpoint, end_of_quarter, fields, result_limit)\n",
    "\n",
    "    # display\n",
    "    if all_financial_reporting_data is not None:\n",
    "        all_financial_reporting_data = all_financial_reporting_data.sort_values('CERT')\n",
    "        all_financial_reporting_data.to_csv(f'../../data/quarterly_financials/{end_of_quarter}_quarterly_financials.csv', index=False)\n",
    "        print(f'{end_of_quarter} done')\n"
   ]
  }
 ],
 "metadata": {
  "kernelspec": {
   "display_name": "spring2023env",
   "language": "python",
   "name": "python3"
  },
  "language_info": {
   "codemirror_mode": {
    "name": "ipython",
    "version": 3
   },
   "file_extension": ".py",
   "mimetype": "text/x-python",
   "name": "python",
   "nbconvert_exporter": "python",
   "pygments_lexer": "ipython3",
   "version": "3.10.8"
  },
  "orig_nbformat": 4
 },
 "nbformat": 4,
 "nbformat_minor": 2
}

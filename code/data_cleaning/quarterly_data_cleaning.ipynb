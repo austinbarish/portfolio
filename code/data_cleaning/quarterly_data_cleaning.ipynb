{
 "cells": [
  {
   "cell_type": "markdown",
   "metadata": {},
   "source": [
    "This file will compile all of the quarterly csv files into one giant csv for analysis."
   ]
  },
  {
   "cell_type": "code",
   "execution_count": 3,
   "metadata": {},
   "outputs": [],
   "source": [
    "# Imports\n",
    "import pandas as pd\n",
    "import numpy as np\n",
    "import os\n",
    "\n",
    "# Setting the path and getting csv names\n",
    "financials_path = \"../../data/quarterly_financials/\"\n",
    "quarterly_data_files = os.listdir(financials_path)\n",
    "\n",
    "# Stripping the file names for their dates\n",
    "dates = pd.to_datetime([date.strip(\"_quarterly_financials.csv\") for date in quarterly_data_files])\n",
    "\n",
    "# For Loop to go through files\n",
    "for i, file in enumerate(quarterly_data_files):\n",
    "    # individual file df\n",
    "    file_df = pd.read_csv(financials_path + file)\n",
    "    \n",
    "    # Date for the file\n",
    "    date = dates[i]\n",
    "\n",
    "    # Adding columns to denote the quarter and date of the institution/row\n",
    "    file_df[\"date\"] = np.repeat(date, len(file_df))\n",
    "    file_df[\"quarter\"] = np.repeat(date.quarter, len(file_df))\n",
    "\n",
    "    # Combining all the data\n",
    "    if file == quarterly_data_files[0]:\n",
    "        df = file_df\n",
    "    else:\n",
    "        df = pd.concat([df, file_df])\n",
    "\n",
    "# Saving the file\n",
    "df.to_csv(\"../../data/all_financials.csv\")\n",
    "    "
   ]
  }
 ],
 "metadata": {
  "kernelspec": {
   "display_name": "Python 3.10.8 ('ANLY503')",
   "language": "python",
   "name": "python3"
  },
  "language_info": {
   "codemirror_mode": {
    "name": "ipython",
    "version": 3
   },
   "file_extension": ".py",
   "mimetype": "text/x-python",
   "name": "python",
   "nbconvert_exporter": "python",
   "pygments_lexer": "ipython3",
   "version": "3.10.8"
  },
  "orig_nbformat": 4,
  "vscode": {
   "interpreter": {
    "hash": "03a1f8e8ba93f4d8f026aca5c2668ede64df4d54b4491b84262dd70ef4479dff"
   }
  }
 },
 "nbformat": 4,
 "nbformat_minor": 2
}

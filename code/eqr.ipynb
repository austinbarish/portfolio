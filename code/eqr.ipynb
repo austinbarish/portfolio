{
 "cells": [
  {
   "attachments": {},
   "cell_type": "markdown",
   "metadata": {},
   "source": [
    "# EQR Analysis\n",
    "\n",
    "By 503 Team 4"
   ]
  },
  {
   "attachments": {},
   "cell_type": "markdown",
   "metadata": {},
   "source": [
    "## Background"
   ]
  },
  {
   "cell_type": "markdown",
   "metadata": {},
   "source": []
  },
  {
   "attachments": {},
   "cell_type": "markdown",
   "metadata": {},
   "source": [
    "## Code"
   ]
  },
  {
   "cell_type": "code",
   "execution_count": null,
   "metadata": {},
   "outputs": [],
   "source": [
    "#import necessary libraries\n",
    "import pandas as pd\n",
    "import numpy as np\n",
    "import matplotlib.pyplot as plt\n",
    "import seaborn as sns\n",
    "import os\n",
    "import altair as alt\n",
    "import plotly.express as px\n",
    "import plotly.graph_objects as go\n",
    "import plotly.io as pio\n",
    "pio.renderers.default = \"plotly_mimetype+notebook_connected\"\n",
    "\n",
    "# alt.data_transformers.enable('json')\n",
    "alt.data_transformers.enable('default',max_rows=None)"
   ]
  },
  {
   "cell_type": "code",
   "execution_count": null,
   "metadata": {},
   "outputs": [],
   "source": [
    "#load data\n",
    "\n",
    "csvs = []\n",
    "\n",
    "file_path = '../data/quarterly_financials/'\n",
    "for file in os.listdir(file_path):\n",
    "    if file.endswith('.csv'):\n",
    "        tmp_file = pd.read_csv(os.path.join(file_path, file))\n",
    "        csvs.append(tmp_file)\n",
    "df = pd.concat(csvs, ignore_index=True)"
   ]
  },
  {
   "cell_type": "code",
   "execution_count": null,
   "metadata": {},
   "outputs": [],
   "source": [
    "#preprocessing\n",
    "df['REPDTE'] = df['REPDTE'].astype(str)\n",
    "#add year and quarter\n",
    "df['YEAR'] = df['REPDTE'].str[:4]\n",
    "df['QUARTER'] = ''\n",
    "\n",
    "quarters_dict = {'0331': 'Q1', '0630': 'Q2', '0930': 'Q3', '1231': 'Q4'}\n",
    "df['QUARTER'] = df['REPDTE'].str[-4:].map(quarters_dict).fillna('ERROR')\n",
    "\n",
    "df['YEAR'] = df['YEAR'].astype(str)\n",
    "df['QUARTER'] = df['QUARTER'].astype(str)\n",
    "df['QUARTER_YEAR'] = df['YEAR'] + ' ' + df['QUARTER']"
   ]
  },
  {
   "attachments": {},
   "cell_type": "markdown",
   "metadata": {},
   "source": [
    "## Top and Bottom 20 Histogram"
   ]
  },
  {
   "cell_type": "code",
   "execution_count": null,
   "metadata": {},
   "outputs": [],
   "source": [
    "df['COUNT'] = 1\n",
    "df_eqr_overall = df.groupby('CERT').agg({'EQR' : 'mean', 'NAME': 'first', 'COUNT': 'sum', 'STNAME': 'first', 'CERT': 'first'})\n",
    "df_eqr_overall = df_eqr_overall[df_eqr_overall['COUNT'] >= 100]"
   ]
  },
  {
   "cell_type": "code",
   "execution_count": null,
   "metadata": {},
   "outputs": [],
   "source": [
    "mean_value = df_eqr_overall['EQR'].mean()\n",
    "print(df_eqr_overall['EQR'].describe())\n",
    "\n",
    "largest = df_eqr_overall.nlargest(20, 'EQR')\n",
    "smallest = df_eqr_overall.nsmallest(20, 'EQR')\n",
    "plot_eqr_df = pd.concat([largest, smallest], ignore_index=True)\n",
    "\n",
    "mean_row = pd.DataFrame({'EQR': [mean_value], 'NAME' : ['MEAN']})\n",
    "plot_eqr_df = pd.concat([plot_eqr_df, mean_row], ignore_index=True)\n",
    "plot_eqr_df = plot_eqr_df.sort_values(by='EQR', ascending=True)"
   ]
  },
  {
   "cell_type": "code",
   "execution_count": null,
   "metadata": {},
   "outputs": [],
   "source": [
    "selection = alt.selection_single(fields=['NAME'], name='Random')\n",
    "color = alt.condition(selection,\n",
    "                      alt.value('#118C4F'),\n",
    "                      alt.value('#FFB90D'))\n",
    "\n",
    "chart1 = alt.Chart(plot_eqr_df).mark_bar().encode(\n",
    "    x=alt.X('NAME', sort=alt.EncodingSortField('EQR', order='ascending')),\n",
    "    y='EQR',\n",
    "    color=color,\n",
    "    tooltip=['NAME', 'STNAME:N', 'EQR']\n",
    ").properties(\n",
    "    title='20 Largest and Smallest Banks by EQR in a Quarter, with Overall Average'\n",
    ").add_selection(selection)\n",
    "chart1.encoding.x.title = 'Bank Name (MEAN denotes overall average)'\n",
    "chart1.encoding.y.title = 'Equity Capital Ratio (EQR)'"
   ]
  },
  {
   "cell_type": "code",
   "execution_count": null,
   "metadata": {},
   "outputs": [],
   "source": [
    "plot_eqr_df_2 = df[df['CERT'].isin(plot_eqr_df['CERT'])]\n",
    "plot_eqr_df_2 = plot_eqr_df_2.groupby(['CERT', 'QUARTER', 'YEAR']).agg({'QUARTER_YEAR': 'first', 'EQR': 'mean', 'NAME': 'first'}).reset_index()\n",
    "\n",
    "line = (alt.Chart(plot_eqr_df_2)\n",
    "         .mark_line(strokeWidth=5, color='#118C4F')\n",
    "         .encode(x='QUARTER_YEAR:N',\n",
    "                 y=alt.Y('mean(EQR):Q', scale=alt.Scale(domain=[0,100])),\n",
    "                 color='NAME:N',\n",
    "                 tooltip=['NAME', 'QUARTER_YEAR','EQR']\n",
    "                 )\n",
    "         ).transform_filter(selection)\n",
    "line.title='Average EQR by Quarter over Past 30 Years'\n",
    "line.encoding.x.title='Year and Quarter'\n",
    "line.encoding.y.title='Equity Capital Ratio (EQR)'\n",
    "chart1 & line\n"
   ]
  },
  {
   "attachments": {},
   "cell_type": "markdown",
   "metadata": {},
   "source": [
    "### Analysis\n",
    "\n",
    "For this portion of the analysis, I chose to examine banks that represent the top and bottom 20 in average EQR by quarter. For this analysis, I filtered out any banks that do not appear in the data for more than 100 quarters (roughly 80% of the quarters). This is to eliminate any potential outliers in the data. The mean value does not all observations in the data; it only includes all banks with more than 100 quarters of data since Q1 1992. Looking at the histogram, we notice that the average EQR of 11.22 is far closer to the 20 banks that have the lowest equity capital ratio compared to the 20 banks that have the highest equity capital ratio. Looking at the 5 number summary, we see that the average (11.22) is lower than the median (10.27), indicating that there are a few banks with a far higher equity capital ratio than the majority of the rest of the banks in the FDIC database. When we more closely examine the banks that fall in the range of top or bottom 20, we see that there is no consistent state across these banks. It is noteworthy that Michigan has 2 of the 3 highest banks in terms of EQR. "
   ]
  },
  {
   "attachments": {},
   "cell_type": "markdown",
   "metadata": {},
   "source": [
    "## Quarters Line Graph"
   ]
  },
  {
   "cell_type": "code",
   "execution_count": null,
   "metadata": {},
   "outputs": [],
   "source": [
    "df_quarters = df.groupby(['QUARTER', 'YEAR']).agg({'QUARTER_YEAR': 'first', 'EQR': 'mean'}).reset_index()\n",
    "\n",
    "line1 = (alt.Chart(df_quarters)\n",
    "         .mark_line(strokeWidth=5, color='#118C4F')\n",
    "         .encode(x='QUARTER_YEAR:N',\n",
    "                 y=alt.Y('EQR:Q', scale=alt.Scale(domain=[8,14])),\n",
    "                 tooltip=['QUARTER_YEAR','EQR'])\n",
    "         )\n",
    "line1.title='Average EQR by Quarter over Past 30 Years'\n",
    "line1.encoding.x.title='Year and Quarter'\n",
    "line1.encoding.y.title='Equity Capital Ratio (EQR)'\n",
    "line1"
   ]
  },
  {
   "attachments": {},
   "cell_type": "markdown",
   "metadata": {},
   "source": [
    "## EQR and Assets: Small Counts"
   ]
  },
  {
   "cell_type": "code",
   "execution_count": null,
   "metadata": {},
   "outputs": [],
   "source": [
    "df_eqr_year = df.groupby(['CERT', 'YEAR']).agg({'EQR': 'mean', 'NAME': 'first', 'CITY': 'first', 'STNAME': 'first', 'COUNT': 'sum', 'ASSET': 'mean', 'LIAB': 'mean', 'EQ': 'mean'})"
   ]
  },
  {
   "cell_type": "code",
   "execution_count": null,
   "metadata": {},
   "outputs": [],
   "source": [
    "density_heatmap_df = df_eqr_year[df_eqr_year['ASSET'] <= 500000]\n",
    "\n",
    "fig = px.density_heatmap(\n",
    "    density_heatmap_df,\n",
    "    x=\"ASSET\",\n",
    "    y=\"EQR\",\n",
    "    marginal_x=\"histogram\",\n",
    "    marginal_y=\"histogram\",\n",
    "    color_continuous_scale=px.colors.sequential.Viridis,\n",
    "    nbinsx=50,\n",
    "    nbinsy=1000,\n",
    "    labels=dict(ASSET=\"Sum of Assets Owned\", EQR=\"Equity Capital Ratio (EQR)\"),\n",
    "    title=\"Joint distribution of Average Assets Owned and Average EQR per Year\",\n",
    "    width=650,\n",
    "    height=650,\n",
    "    range_x = [1,500000],\n",
    "    range_y = [0,15]\n",
    ")\n",
    "\n",
    "fig.show()"
   ]
  },
  {
   "cell_type": "markdown",
   "metadata": {},
   "source": []
  },
  {
   "attachments": {},
   "cell_type": "markdown",
   "metadata": {},
   "source": [
    "## Bubble Plot"
   ]
  },
  {
   "cell_type": "code",
   "execution_count": null,
   "metadata": {},
   "outputs": [],
   "source": [
    "df_scatter = df.groupby(['CERT','YEAR'])\n",
    "df_scatter = df.sort_values('NAME')\n",
    "df_scatter = df_scatter[df_scatter['EQR']>=0]\n",
    "df_scatter = df_scatter.sort_values('YEAR')\n",
    "\n",
    "fig = px.scatter(\n",
    "    df_scatter,\n",
    "    x='EQ',\n",
    "    y='EQR',\n",
    "    animation_frame='YEAR',\n",
    "    animation_group='NAME',\n",
    "    size='EQR',\n",
    "    color='BKCLASS',\n",
    "    hover_name='NAME',\n",
    "    template='plotly_white',\n",
    "    range_color=[-100,100],\n",
    "    size_max=45\n",
    ")\n",
    "fig.update_layout(\n",
    "    title = 'Bubble Plot of Equity Capital and Equity Capital Ratio by Year',\n",
    "    xaxis_title = 'Equity Capital (EQ)',\n",
    "    yaxis_title = 'Equity Capital Ratio (EQR)',\n",
    "    legend_title_text = 'State Name'\n",
    ")\n",
    "fig.show()"
   ]
  }
 ],
 "metadata": {
  "kernelspec": {
   "display_name": "anly503",
   "language": "python",
   "name": "python3"
  },
  "language_info": {
   "codemirror_mode": {
    "name": "ipython",
    "version": 3
   },
   "file_extension": ".py",
   "mimetype": "text/x-python",
   "name": "python",
   "nbconvert_exporter": "python",
   "pygments_lexer": "ipython3",
   "version": "3.10.8"
  },
  "orig_nbformat": 4
 },
 "nbformat": 4,
 "nbformat_minor": 2
}

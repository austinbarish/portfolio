{
 "cells": [
  {
   "attachments": {},
   "cell_type": "markdown",
   "metadata": {},
   "source": [
    "# EQR Analysis\n",
    "\n",
    "By 503 Team 4"
   ]
  },
  {
   "attachments": {},
   "cell_type": "markdown",
   "metadata": {},
   "source": [
    "## Background"
   ]
  },
  {
   "attachments": {},
   "cell_type": "markdown",
   "metadata": {},
   "source": [
    "A bank's equity capital ratio, similar to a bank's tier 1 capital ratio, is the amount of a bank's equity as a measure of its total capital. It is a measure of a bank's financial strength and ability to withstand economic downturns and absorb losses. The FDIC often requires a minimum 4% equity capital ratio for banks that it insures in order to allow the bank to become less reliant on debt and increase shareholder satisfaction. The equity capital ratio is an interesting figure to help project the stability of a bank. "
   ]
  },
  {
   "attachments": {},
   "cell_type": "markdown",
   "metadata": {},
   "source": [
    "## Code"
   ]
  },
  {
   "cell_type": "code",
   "execution_count": null,
   "metadata": {},
   "outputs": [],
   "source": [
    "#import necessary libraries\n",
    "import pandas as pd\n",
    "import numpy as np\n",
    "import matplotlib.pyplot as plt\n",
    "import seaborn as sns\n",
    "import os\n",
    "import altair as alt\n",
    "import plotly.express as px\n",
    "import plotly.graph_objects as go\n",
    "import plotly.io as pio\n",
    "pio.renderers.default = \"plotly_mimetype+notebook_connected\"\n",
    "\n",
    "# alt.data_transformers.enable('json')\n",
    "alt.data_transformers.enable('default',max_rows=None)"
   ]
  },
  {
   "cell_type": "code",
   "execution_count": null,
   "metadata": {},
   "outputs": [],
   "source": [
    "#load data\n",
    "\n",
    "csvs = []\n",
    "\n",
    "file_path = '../data/quarterly_financials/'\n",
    "for file in os.listdir(file_path):\n",
    "    if file.endswith('.csv'):\n",
    "        tmp_file = pd.read_csv(os.path.join(file_path, file))\n",
    "        csvs.append(tmp_file)\n",
    "df = pd.concat(csvs, ignore_index=True)"
   ]
  },
  {
   "cell_type": "code",
   "execution_count": null,
   "metadata": {},
   "outputs": [],
   "source": [
    "#preprocessing\n",
    "df['REPDTE'] = df['REPDTE'].astype(str)\n",
    "#add year and quarter\n",
    "df['YEAR'] = df['REPDTE'].str[:4]\n",
    "df['QUARTER'] = ''\n",
    "\n",
    "quarters_dict = {'0331': 'Q1', '0630': 'Q2', '0930': 'Q3', '1231': 'Q4'}\n",
    "df['QUARTER'] = df['REPDTE'].str[-4:].map(quarters_dict).fillna('ERROR')\n",
    "\n",
    "df['YEAR'] = df['YEAR'].astype(str)\n",
    "df['QUARTER'] = df['QUARTER'].astype(str)\n",
    "df['QUARTER_YEAR'] = df['YEAR'] + ' ' + df['QUARTER']"
   ]
  },
  {
   "attachments": {},
   "cell_type": "markdown",
   "metadata": {},
   "source": [
    "## Top and Bottom 20 Histogram"
   ]
  },
  {
   "cell_type": "code",
   "execution_count": null,
   "metadata": {},
   "outputs": [],
   "source": [
    "df['COUNT'] = 1\n",
    "df_eqr_overall = df.groupby('CERT').agg({'EQR' : 'mean', 'NAME': 'first', 'COUNT': 'sum', 'STNAME': 'first', 'CERT': 'first'})\n",
    "df_eqr_overall = df_eqr_overall[df_eqr_overall['COUNT'] >= 100]"
   ]
  },
  {
   "cell_type": "code",
   "execution_count": null,
   "metadata": {},
   "outputs": [],
   "source": [
    "mean_value = df_eqr_overall['EQR'].mean()\n",
    "print(df_eqr_overall['EQR'].describe())\n",
    "\n",
    "largest = df_eqr_overall.nlargest(20, 'EQR')\n",
    "smallest = df_eqr_overall.nsmallest(20, 'EQR')\n",
    "plot_eqr_df = pd.concat([largest, smallest], ignore_index=True)\n",
    "\n",
    "mean_row = pd.DataFrame({'EQR': [mean_value], 'NAME' : ['MEAN']})\n",
    "plot_eqr_df = pd.concat([plot_eqr_df, mean_row], ignore_index=True)\n",
    "plot_eqr_df = plot_eqr_df.sort_values(by='EQR', ascending=True)"
   ]
  },
  {
   "cell_type": "code",
   "execution_count": null,
   "metadata": {},
   "outputs": [],
   "source": [
    "selection = alt.selection_single(fields=['NAME'], name='Random')\n",
    "color = alt.condition(selection,\n",
    "                      alt.value('#118C4F'),\n",
    "                      alt.value('#FFB90D'))\n",
    "\n",
    "chart1 = alt.Chart(plot_eqr_df).mark_bar().encode(\n",
    "    x=alt.X('NAME', sort=alt.EncodingSortField('EQR', order='ascending')),\n",
    "    y='EQR',\n",
    "    color=color,\n",
    "    tooltip=['NAME', 'STNAME:N', 'EQR']\n",
    ").properties(\n",
    "    title='20 Largest and Smallest Banks by EQR in a Quarter, with Overall Average'\n",
    ").add_selection(selection)\n",
    "chart1.encoding.x.title = 'Bank Name (MEAN denotes overall average)'\n",
    "chart1.encoding.y.title = 'Equity Capital Ratio (EQR)'"
   ]
  },
  {
   "cell_type": "code",
   "execution_count": null,
   "metadata": {},
   "outputs": [],
   "source": [
    "plot_eqr_df_2 = df[df['CERT'].isin(plot_eqr_df['CERT'])]\n",
    "plot_eqr_df_2 = plot_eqr_df_2.groupby(['CERT', 'QUARTER', 'YEAR']).agg({'QUARTER_YEAR': 'first', 'EQR': 'mean', 'NAME': 'first'}).reset_index()\n",
    "\n",
    "line = (alt.Chart(plot_eqr_df_2)\n",
    "         .mark_line(strokeWidth=5, color='#118C4F')\n",
    "         .encode(x='QUARTER_YEAR:N',\n",
    "                 y=alt.Y('mean(EQR):Q', scale=alt.Scale(domain=[0,100])),\n",
    "                 color='NAME:N',\n",
    "                 tooltip=['NAME', 'QUARTER_YEAR','EQR']\n",
    "                 )\n",
    "         ).transform_filter(selection)\n",
    "line.title='Average EQR by Quarter over Past 30 Years'\n",
    "line.encoding.x.title='Year and Quarter'\n",
    "line.encoding.y.title='Equity Capital Ratio (EQR)'\n",
    "chart1 & line\n"
   ]
  },
  {
   "attachments": {},
   "cell_type": "markdown",
   "metadata": {},
   "source": [
    "### Analysis\n",
    "\n",
    "For this portion of the analysis, I chose to examine banks that represent the top and bottom 20 in average EQR by quarter. For this analysis, I filtered out any banks that do not appear in the data for more than 100 quarters (roughly 80% of the quarters). This is to eliminate any potential outliers in the data. The mean value does not all observations in the data; it only includes all banks with more than 100 quarters of data since Q1 1992. Looking at the histogram, we notice that the average EQR of 11.22 is far closer to the 20 banks that have the lowest equity capital ratio compared to the 20 banks that have the highest equity capital ratio. Looking at the 5 number summary, we see that the average (11.22) is lower than the median (10.27), indicating that there are a few banks with a far higher equity capital ratio than the majority of the rest of the banks in the FDIC database. When we more closely examine the banks that fall in the range of top or bottom 20, we see that there is no consistent state across these banks. It is noteworthy that Michigan has 2 of the 3 highest banks in terms of EQR. Another noteworthy observation is that banks in Ohio, South Dakota, and North Carolina only make up 3 of the top 20 banks in average equity capital ratio. Moreover, none of the largest banks in terms of total assets are present on this list. "
   ]
  },
  {
   "cell_type": "code",
   "execution_count": null,
   "metadata": {},
   "outputs": [],
   "source": [
    "top_banks = [\"JPMORGAN CHASE BANK NA\", \"BANK OF AMERICA NA\", \"WELLS FARGO BANK NA\", \"CITIBANK NATIONAL ASSN\"]\n",
    "df_banks = df[df['NAME'].isin(top_banks)]\n",
    "\n",
    "df_banks = df_banks.groupby(['CERT', 'QUARTER', 'YEAR']).agg({'QUARTER_YEAR': 'first', 'EQR': 'mean', 'NAME': 'first'}).reset_index()\n",
    "\n",
    "line1 = (alt.Chart(df_banks)\n",
    "         .mark_line(strokeWidth=5, color='#118C4F')\n",
    "         .encode(x='QUARTER_YEAR:N',\n",
    "                 y=alt.Y('mean(EQR):Q', scale=alt.Scale(domain=[6,35])),\n",
    "                 color='NAME:N',\n",
    "                 tooltip=['NAME', 'QUARTER_YEAR','EQR']\n",
    "                 )\n",
    "         )\n",
    "line1.title='Average EQR by Quarter over Past 30 Years'\n",
    "line1.encoding.x.title='Year and Quarter'\n",
    "line1.encoding.y.title='Equity Capital Ratio (EQR)'"
   ]
  },
  {
   "attachments": {},
   "cell_type": "markdown",
   "metadata": {},
   "source": [
    "## Quarters Line Graph"
   ]
  },
  {
   "cell_type": "code",
   "execution_count": null,
   "metadata": {},
   "outputs": [],
   "source": [
    "df_quarters = df.groupby(['QUARTER', 'YEAR']).agg({'QUARTER_YEAR': 'first', 'EQR': 'mean'}).reset_index()\n",
    "\n",
    "line2 = (alt.Chart(df_quarters)\n",
    "         .mark_line(strokeWidth=5, color='#118C4F')\n",
    "         .encode(x='QUARTER_YEAR:N',\n",
    "                 y=alt.Y('EQR:Q', scale=alt.Scale(domain=[6,15])),\n",
    "                 tooltip=['QUARTER_YEAR','EQR'])\n",
    "         )\n",
    "line2.title='Average EQR by Quarter over Past 30 Years'\n",
    "line2.encoding.x.title='Year and Quarter'\n",
    "line2.encoding.y.title='Equity Capital Ratio (EQR)'\n",
    "line1 & line2"
   ]
  },
  {
   "attachments": {},
   "cell_type": "markdown",
   "metadata": {},
   "source": [
    "We see based on the line graph above that, for the most part, the 4 major banks maintain a relatively consistent equity capital ratio. After 2004, which is the first quarter that JP Morgan Chase Bank NA is present in this data, we notice that none of the banks ever reach an equity capital ratio higher than 13, and for the most part, they have all reached a similar value between 8 and 10 since 2020. The only time any of these banks record an equity capital ratio that is well above the cumulative average is prior to the turn of the 20th century, when Bank of America NA records several quarters with an equity capital ratio over 20. Comparing the four largest banks to the overall average for all FDIC-insured banks present in the data, we see that, for the most part, the four largest banks are either identical to, or slightly below, the overall average equity capital ratio over the past 2 decades. This is due to the differing immediate needs between large national banks, such as Wells Fargo and Bank of America, and smaller, more localized banks. There are a few reasons for the diffence in focus. The first is that larger banks often have greater access to capital markets, and are thus less reliant on using their own capital to fund everyday business operations. Therefore, they do not necessarily need to maintain a high equity capital ratio. The next reason is because smaller banks often take a more conservative stance on risk management, and since equity capital ratio is a way to quantify a bank's risk management, it can in part explain why a smaller bank's equity capital ratio is higher, on average. Finally, the difference can be explained by differences in regulatory laws and the market/customer base that a bank is typically functioning in. Nevertheless, the FDIC does set regulations for a minimum equity capital ratio, so even the largest banks in the industry need to ensure that they have a sufficient equity capital ratio and are thus in a stronger financial position in the event of an economic downturn. While larger banks have more resources than smaller banks and thus have more methods of improving their financial position to respond to potential problems, they still must maintain sufficient equity."
   ]
  },
  {
   "attachments": {},
   "cell_type": "markdown",
   "metadata": {},
   "source": [
    "## EQR and Assets: Small Counts"
   ]
  },
  {
   "cell_type": "code",
   "execution_count": null,
   "metadata": {},
   "outputs": [],
   "source": [
    "df_eqr_year = df.groupby(['CERT', 'YEAR']).agg({'EQR': 'mean', 'NAME': 'first', 'CITY': 'first', 'STNAME': 'first', 'COUNT': 'sum', 'ASSET': 'mean', 'LIAB': 'mean', 'EQ': 'mean'})"
   ]
  },
  {
   "cell_type": "code",
   "execution_count": null,
   "metadata": {},
   "outputs": [],
   "source": [
    "density_heatmap_df = df_eqr_year[df_eqr_year['ASSET'] <= 500000]\n",
    "\n",
    "fig = px.density_heatmap(\n",
    "    density_heatmap_df,\n",
    "    x=\"ASSET\",\n",
    "    y=\"EQR\",\n",
    "    marginal_x=\"histogram\",\n",
    "    marginal_y=\"histogram\",\n",
    "    color_continuous_scale=px.colors.sequential.Viridis,\n",
    "    nbinsx=50,\n",
    "    nbinsy=1000,\n",
    "    labels=dict(ASSET=\"Sum of Assets Owned\", EQR=\"Equity Capital Ratio (EQR)\"),\n",
    "    title=\"Joint distribution of Average Assets Owned and Average EQR per Year\",\n",
    "    width=650,\n",
    "    height=650,\n",
    "    range_x = [1,500000],\n",
    "    range_y = [0,15]\n",
    ")\n",
    "\n",
    "fig.show()"
   ]
  },
  {
   "attachments": {},
   "cell_type": "markdown",
   "metadata": {},
   "source": [
    "This plot attempts to look at smaller banks in terms of mean total assets owned over all quarters and forecast their average equity capital ratio. This heatmap contains over 200,000 unique banks, all with average total assets owned below 500,000. Based on the values of the heatmap, we see that the majority of these banks hold a small amount of assets, typically below 100,000. Nevertheless, most banks that make up this proportion maintain an equity capital ratio between 8 and 12, which is consistent relative to the average that we have previously examined. "
   ]
  },
  {
   "attachments": {},
   "cell_type": "markdown",
   "metadata": {},
   "source": [
    "## Bubble Plot"
   ]
  },
  {
   "cell_type": "code",
   "execution_count": null,
   "metadata": {},
   "outputs": [],
   "source": [
    "df_scatter = df.groupby(['CERT','YEAR'])\n",
    "df_scatter = df.sort_values('NAME')\n",
    "df_scatter = df_scatter[df_scatter['EQR']>=0]\n",
    "df_scatter = df_scatter.sort_values('YEAR')\n",
    "\n",
    "fig = px.scatter(\n",
    "    df_scatter,\n",
    "    x='EQ',\n",
    "    y='EQR',\n",
    "    animation_frame='YEAR',\n",
    "    animation_group='NAME',\n",
    "    size='EQR',\n",
    "    color='BKCLASS',\n",
    "    hover_name='NAME',\n",
    "    template='plotly_white',\n",
    "    range_color=[-100,100],\n",
    "    size_max=45\n",
    ")\n",
    "fig.update_layout(\n",
    "    title = 'Bubble Plot of Equity Capital and Equity Capital Ratio by Year',\n",
    "    xaxis_title = 'Equity Capital (EQ)',\n",
    "    yaxis_title = 'Equity Capital Ratio (EQR)',\n",
    "    legend_title_text = 'Bank Class'\n",
    ")\n",
    "fig.show()"
   ]
  }
 ],
 "metadata": {
  "kernelspec": {
   "display_name": "anly503",
   "language": "python",
   "name": "python3"
  },
  "language_info": {
   "codemirror_mode": {
    "name": "ipython",
    "version": 3
   },
   "file_extension": ".py",
   "mimetype": "text/x-python",
   "name": "python",
   "nbconvert_exporter": "python",
   "pygments_lexer": "ipython3",
   "version": "3.10.8"
  },
  "orig_nbformat": 4
 },
 "nbformat": 4,
 "nbformat_minor": 2
}

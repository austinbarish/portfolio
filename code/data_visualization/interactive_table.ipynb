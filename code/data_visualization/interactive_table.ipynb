{
 "cells": [
  {
   "cell_type": "raw",
   "metadata": {},
   "source": [
    "---\n",
    "format:\n",
    "  html:\n",
    "    embed-resources: true\n",
    "    toc: true\n",
    "    theme: default\n",
    "    code-copy: true\n",
    "    code-line-numbers: true\n",
    "---"
   ]
  },
  {
   "cell_type": "code",
   "execution_count": 4,
   "metadata": {},
   "outputs": [],
   "source": [
    "import os\n",
    "import pandas as pd\n",
    "import plotly.graph_objects as go\n"
   ]
  },
  {
   "cell_type": "code",
   "execution_count": 5,
   "metadata": {},
   "outputs": [],
   "source": [
    "# specify the directory containing the CSV files\n",
    "directory = '../../data/quarterly_financials'\n",
    "\n",
    "# create an empty list to store the dataframes\n",
    "dfs = []\n",
    "\n",
    "# loop over the CSV files in the directory\n",
    "for filename in os.listdir(directory):\n",
    "    if filename.endswith('.csv'):\n",
    "        # read the CSV file into a dataframe and append it to the list\n",
    "        path = os.path.join(directory, filename)\n",
    "        df = pd.read_csv(path)\n",
    "        dfs.append(df)\n",
    "\n",
    "# concatenate the dataframes into a single dataframe\n",
    "quarterly_financials = pd.concat(dfs, ignore_index=True)\n",
    "# sort\n",
    "quarterly_financials = quarterly_financials.sort_values(\n",
    "    by=['REPDTE', 'CERT'], ascending=[False, True])\n",
    "quarterly_financials = quarterly_financials.reset_index(drop=True)"
   ]
  },
  {
   "cell_type": "code",
   "execution_count": 6,
   "metadata": {},
   "outputs": [
    {
     "data": {
      "text/plain": [
       "(1000105, 16)"
      ]
     },
     "metadata": {},
     "output_type": "display_data"
    },
    {
     "data": {
      "text/html": [
       "<div>\n",
       "<style scoped>\n",
       "    .dataframe tbody tr th:only-of-type {\n",
       "        vertical-align: middle;\n",
       "    }\n",
       "\n",
       "    .dataframe tbody tr th {\n",
       "        vertical-align: top;\n",
       "    }\n",
       "\n",
       "    .dataframe thead th {\n",
       "        text-align: right;\n",
       "    }\n",
       "</style>\n",
       "<table border=\"1\" class=\"dataframe\">\n",
       "  <thead>\n",
       "    <tr style=\"text-align: right;\">\n",
       "      <th></th>\n",
       "      <th>ZIP</th>\n",
       "      <th>BKCLASS</th>\n",
       "      <th>EQR</th>\n",
       "      <th>REPDTE</th>\n",
       "      <th>DEPDOM</th>\n",
       "      <th>ASSET</th>\n",
       "      <th>STNAME</th>\n",
       "      <th>EQ</th>\n",
       "      <th>NAME</th>\n",
       "      <th>CITY</th>\n",
       "      <th>ADDRESS</th>\n",
       "      <th>ENDEFYMD</th>\n",
       "      <th>CERT</th>\n",
       "      <th>ESTYMD</th>\n",
       "      <th>LIAB</th>\n",
       "      <th>ID</th>\n",
       "    </tr>\n",
       "  </thead>\n",
       "  <tbody>\n",
       "    <tr>\n",
       "      <th>0</th>\n",
       "      <td>2111</td>\n",
       "      <td>SM</td>\n",
       "      <td>8.918529</td>\n",
       "      <td>20221231</td>\n",
       "      <td>163284000.0</td>\n",
       "      <td>298020000</td>\n",
       "      <td>MASSACHUSETTS</td>\n",
       "      <td>26579000.0</td>\n",
       "      <td>STATE STREET BANK&amp;TRUST CO</td>\n",
       "      <td>BOSTON</td>\n",
       "      <td>1 LINCOLN ST</td>\n",
       "      <td>99991231.0</td>\n",
       "      <td>14</td>\n",
       "      <td>17920101</td>\n",
       "      <td>271441000.0</td>\n",
       "      <td>14_20221231</td>\n",
       "    </tr>\n",
       "    <tr>\n",
       "      <th>1</th>\n",
       "      <td>36830</td>\n",
       "      <td>SM</td>\n",
       "      <td>6.446081</td>\n",
       "      <td>20221231</td>\n",
       "      <td>952037.0</td>\n",
       "      <td>1023366</td>\n",
       "      <td>ALABAMA</td>\n",
       "      <td>65967.0</td>\n",
       "      <td>AUBURNBANK</td>\n",
       "      <td>AUBURN</td>\n",
       "      <td>100 N GAY ST</td>\n",
       "      <td>99991231.0</td>\n",
       "      <td>35</td>\n",
       "      <td>19070103</td>\n",
       "      <td>957399.0</td>\n",
       "      <td>35_20221231</td>\n",
       "    </tr>\n",
       "    <tr>\n",
       "      <th>2</th>\n",
       "      <td>36732</td>\n",
       "      <td>NM</td>\n",
       "      <td>7.323604</td>\n",
       "      <td>20221231</td>\n",
       "      <td>407949.0</td>\n",
       "      <td>444822</td>\n",
       "      <td>ALABAMA</td>\n",
       "      <td>32577.0</td>\n",
       "      <td>ROBERTSON BANKING CO</td>\n",
       "      <td>DEMOPOLIS</td>\n",
       "      <td>216 N WALNUT AVE</td>\n",
       "      <td>99991231.0</td>\n",
       "      <td>39</td>\n",
       "      <td>18700101</td>\n",
       "      <td>412245.0</td>\n",
       "      <td>39_20221231</td>\n",
       "    </tr>\n",
       "    <tr>\n",
       "      <th>3</th>\n",
       "      <td>36867</td>\n",
       "      <td>NM</td>\n",
       "      <td>-3.191064</td>\n",
       "      <td>20221231</td>\n",
       "      <td>266874.0</td>\n",
       "      <td>265272</td>\n",
       "      <td>ALABAMA</td>\n",
       "      <td>-8465.0</td>\n",
       "      <td>PHENIX-GIRARD BANK</td>\n",
       "      <td>PHENIX CITY</td>\n",
       "      <td>801 13TH ST</td>\n",
       "      <td>99991231.0</td>\n",
       "      <td>41</td>\n",
       "      <td>19040504</td>\n",
       "      <td>273737.0</td>\n",
       "      <td>41_20221231</td>\n",
       "    </tr>\n",
       "    <tr>\n",
       "      <th>4</th>\n",
       "      <td>36401</td>\n",
       "      <td>NM</td>\n",
       "      <td>7.197104</td>\n",
       "      <td>20221231</td>\n",
       "      <td>70649.0</td>\n",
       "      <td>76239</td>\n",
       "      <td>ALABAMA</td>\n",
       "      <td>5487.0</td>\n",
       "      <td>BANK OF EVERGREEN</td>\n",
       "      <td>EVERGREEN</td>\n",
       "      <td>146 W FRONT ST</td>\n",
       "      <td>99991231.0</td>\n",
       "      <td>49</td>\n",
       "      <td>19320901</td>\n",
       "      <td>70752.0</td>\n",
       "      <td>49_20221231</td>\n",
       "    </tr>\n",
       "  </tbody>\n",
       "</table>\n",
       "</div>"
      ],
      "text/plain": [
       "     ZIP BKCLASS       EQR    REPDTE       DEPDOM      ASSET         STNAME  \\\n",
       "0   2111      SM  8.918529  20221231  163284000.0  298020000  MASSACHUSETTS   \n",
       "1  36830      SM  6.446081  20221231     952037.0    1023366        ALABAMA   \n",
       "2  36732      NM  7.323604  20221231     407949.0     444822        ALABAMA   \n",
       "3  36867      NM -3.191064  20221231     266874.0     265272        ALABAMA   \n",
       "4  36401      NM  7.197104  20221231      70649.0      76239        ALABAMA   \n",
       "\n",
       "           EQ                        NAME         CITY           ADDRESS  \\\n",
       "0  26579000.0  STATE STREET BANK&TRUST CO       BOSTON      1 LINCOLN ST   \n",
       "1     65967.0                  AUBURNBANK       AUBURN      100 N GAY ST   \n",
       "2     32577.0        ROBERTSON BANKING CO    DEMOPOLIS  216 N WALNUT AVE   \n",
       "3     -8465.0          PHENIX-GIRARD BANK  PHENIX CITY       801 13TH ST   \n",
       "4      5487.0           BANK OF EVERGREEN    EVERGREEN    146 W FRONT ST   \n",
       "\n",
       "     ENDEFYMD  CERT    ESTYMD         LIAB           ID  \n",
       "0  99991231.0    14  17920101  271441000.0  14_20221231  \n",
       "1  99991231.0    35  19070103     957399.0  35_20221231  \n",
       "2  99991231.0    39  18700101     412245.0  39_20221231  \n",
       "3  99991231.0    41  19040504     273737.0  41_20221231  \n",
       "4  99991231.0    49  19320901      70752.0  49_20221231  "
      ]
     },
     "metadata": {},
     "output_type": "display_data"
    }
   ],
   "source": [
    "# print the combined dataframe\n",
    "display(quarterly_financials.shape)\n",
    "display(quarterly_financials.head())"
   ]
  },
  {
   "cell_type": "code",
   "execution_count": 7,
   "metadata": {},
   "outputs": [
    {
     "data": {
      "text/plain": [
       "7"
      ]
     },
     "metadata": {},
     "output_type": "display_data"
    },
    {
     "data": {
      "text/plain": [
       "array(['SM', 'NM', 'N', 'SI', 'SB', 'SL', 'OI'], dtype=object)"
      ]
     },
     "metadata": {},
     "output_type": "display_data"
    }
   ],
   "source": [
    "display(len(quarterly_financials['BKCLASS'].unique()))\n",
    "display(quarterly_financials['BKCLASS'].unique())"
   ]
  },
  {
   "cell_type": "code",
   "execution_count": 18,
   "metadata": {},
   "outputs": [
    {
     "data": {
      "application/vnd.plotly.v1+json": {
       "config": {
        "plotlyServerURL": "https://plot.ly"
       },
       "data": [
        {
         "cells": {
          "align": "left",
          "fill": {
           "color": [
            [
             "lavender",
             "white",
             "lavender",
             "white",
             "lavender",
             "white",
             "lavender",
             "white",
             "lavender",
             "white",
             "lavender",
             "white",
             "lavender",
             "white",
             "lavender",
             "white",
             "lavender",
             "white",
             "lavender",
             "white",
             "lavender",
             "white",
             "lavender",
             "white",
             "lavender",
             "white",
             "lavender",
             "white",
             "lavender",
             "white",
             "lavender",
             "white",
             "lavender",
             "white",
             "lavender",
             "white",
             "lavender",
             "white",
             "lavender",
             "white",
             "lavender",
             "white",
             "lavender",
             "white",
             "lavender",
             "white",
             "lavender",
             "white",
             "lavender",
             "white",
             "lavender",
             "white",
             "lavender",
             "white",
             "lavender"
            ]
           ]
          },
          "values": [
           [
            "ALABAMA",
            "ALASKA",
            "ARIZONA",
            "ARKANSAS",
            "CALIFORNIA",
            "COLORADO",
            "CONNECTICUT",
            "DELAWARE",
            "DISTRICT OF COLUMBIA",
            "FLORIDA",
            "GEORGIA",
            "GUAM",
            "HAWAII",
            "IDAHO",
            "ILLINOIS",
            "INDIANA",
            "IOWA",
            "KANSAS",
            "KENTUCKY",
            "LOUISIANA",
            "MAINE",
            "MARYLAND",
            "MASSACHUSETTS",
            "MICHIGAN",
            "MICRONESIA",
            "MINNESOTA",
            "MISSISSIPPI",
            "MISSOURI",
            "MONTANA",
            "NEBRASKA",
            "NEVADA",
            "NEW HAMPSHIRE",
            "NEW JERSEY",
            "NEW MEXICO",
            "NEW YORK",
            "NORTH CAROLINA",
            "NORTH DAKOTA",
            "OHIO",
            "OKLAHOMA",
            "OREGON",
            "PENNSYLVANIA",
            "PUERTO RICO",
            "RHODE ISLAND",
            "SOUTH CAROLINA",
            "SOUTH DAKOTA",
            "TENNESSEE",
            "TEXAS",
            "UTAH",
            "VERMONT",
            "VIRGIN ISLANDS",
            "VIRGINIA",
            "WASHINGTON",
            "WEST VIRGINIA",
            "WISCONSIN",
            "WYOMING"
           ],
           [
            "206,376",
            "150,172",
            "437,542",
            "227,558",
            "876,571",
            "98,212",
            "403,545",
            "6,202,808",
            "97,614",
            "271,078",
            "96,690",
            "66,786",
            "699,362",
            "87,805",
            "159,073",
            "177,901",
            "41,218",
            "37,973",
            "55,071",
            "62,790",
            "154,195",
            "200,784",
            "473,218",
            "70,261",
            "23,356",
            "35,737",
            "241,509",
            "93,532",
            "194,361",
            "59,972",
            "446,102",
            "81,935",
            "390,526",
            "37,899",
            "1,400,137",
            "6,970,252",
            "70,335",
            "2,403,742",
            "94,243",
            "233,912",
            "236,233",
            "1,505,777",
            "3,581,972",
            "114,548",
            "5,787,296",
            "184,384",
            "171,792",
            "2,146,630",
            "51,657",
            "1,081",
            "1,274,663",
            "283,361",
            "103,925",
            "93,029",
            "24,620"
           ]
          ]
         },
         "header": {
          "align": "left",
          "fill": {
           "color": "#118C4F"
          },
          "font": {
           "color": "white"
          },
          "values": [
           "State Name",
           "Equity"
          ]
         },
         "type": "table",
         "visible": true
        },
        {
         "cells": {
          "align": "left",
          "fill": {
           "color": [
            [
             "lavender",
             "white",
             "lavender",
             "white",
             "lavender",
             "white",
             "lavender",
             "white",
             "lavender",
             "white",
             "lavender",
             "white",
             "lavender",
             "white",
             "lavender",
             "white",
             "lavender",
             "white",
             "lavender",
             "white",
             "lavender",
             "white",
             "lavender",
             "white",
             "lavender",
             "white",
             "lavender",
             "white",
             "lavender",
             "white",
             "lavender",
             "white",
             "lavender",
             "white",
             "lavender",
             "white",
             "lavender",
             "white",
             "lavender",
             "white",
             "lavender",
             "white",
             "lavender",
             "white",
             "lavender",
             "white",
             "lavender",
             "white",
             "lavender",
             "white",
             "lavender",
             "white",
             "lavender",
             "white",
             "lavender"
            ]
           ]
          },
          "values": [
           [
            "ALABAMA",
            "ALASKA",
            "ARIZONA",
            "ARKANSAS",
            "CALIFORNIA",
            "COLORADO",
            "CONNECTICUT",
            "DELAWARE",
            "DISTRICT OF COLUMBIA",
            "FLORIDA",
            "GEORGIA",
            "GUAM",
            "HAWAII",
            "IDAHO",
            "ILLINOIS",
            "INDIANA",
            "IOWA",
            "KANSAS",
            "KENTUCKY",
            "LOUISIANA",
            "MAINE",
            "MARYLAND",
            "MASSACHUSETTS",
            "MICHIGAN",
            "MICRONESIA",
            "MINNESOTA",
            "MISSISSIPPI",
            "MISSOURI",
            "MONTANA",
            "NEBRASKA",
            "NEVADA",
            "NEW HAMPSHIRE",
            "NEW JERSEY",
            "NEW MEXICO",
            "NEW YORK",
            "NORTH CAROLINA",
            "NORTH DAKOTA",
            "OHIO",
            "OKLAHOMA",
            "OREGON",
            "PENNSYLVANIA",
            "PUERTO RICO",
            "RHODE ISLAND",
            "SOUTH CAROLINA",
            "SOUTH DAKOTA",
            "TENNESSEE",
            "TEXAS",
            "UTAH",
            "VERMONT",
            "VIRGIN ISLANDS",
            "VIRGINIA",
            "WASHINGTON",
            "WEST VIRGINIA",
            "WISCONSIN",
            "WYOMING"
           ],
           [
            "1,992,599",
            "1,838,761",
            "4,676,781",
            "1,679,328",
            "8,153,745",
            "1,207,210",
            "3,153,484",
            "57,901,054",
            "599,124",
            "2,835,496",
            "942,041",
            "897,325",
            "9,120,028",
            "877,840",
            "1,494,394",
            "1,677,865",
            "444,309",
            "401,644",
            "539,089",
            "590,868",
            "1,615,999",
            "1,611,038",
            "4,527,303",
            "704,374",
            "201,895",
            "425,095",
            "2,270,434",
            "1,014,651",
            "1,786,225",
            "600,386",
            "3,221,650",
            "772,615",
            "3,004,951",
            "506,280",
            "12,804,717",
            "65,656,565",
            "750,967",
            "23,912,318",
            "906,813",
            "2,473,843",
            "2,111,349",
            "26,622,993",
            "30,887,573",
            "1,068,922",
            "56,043,124",
            "1,550,850",
            "2,650,535",
            "21,625,944",
            "577,497",
            "584,705",
            "10,524,128",
            "2,550,081",
            "820,026",
            "786,740",
            "334,437"
           ]
          ]
         },
         "header": {
          "align": "left",
          "fill": {
           "color": "#118C4F"
          },
          "font": {
           "color": "white"
          },
          "values": [
           "State Name",
           "Liabilities"
          ]
         },
         "type": "table",
         "visible": false
        },
        {
         "cells": {
          "align": "left",
          "fill": {
           "color": [
            [
             "lavender",
             "white",
             "lavender",
             "white",
             "lavender",
             "white",
             "lavender",
             "white",
             "lavender",
             "white",
             "lavender",
             "white",
             "lavender",
             "white",
             "lavender",
             "white",
             "lavender",
             "white",
             "lavender",
             "white",
             "lavender",
             "white",
             "lavender",
             "white",
             "lavender",
             "white",
             "lavender",
             "white",
             "lavender",
             "white",
             "lavender",
             "white",
             "lavender",
             "white",
             "lavender",
             "white",
             "lavender",
             "white",
             "lavender",
             "white",
             "lavender",
             "white",
             "lavender",
             "white",
             "lavender",
             "white",
             "lavender",
             "white",
             "lavender",
             "white",
             "lavender",
             "white",
             "lavender",
             "white",
             "lavender"
            ]
           ]
          },
          "values": [
           [
            "ALABAMA",
            "ALASKA",
            "ARIZONA",
            "ARKANSAS",
            "CALIFORNIA",
            "COLORADO",
            "CONNECTICUT",
            "DELAWARE",
            "DISTRICT OF COLUMBIA",
            "FLORIDA",
            "GEORGIA",
            "GUAM",
            "HAWAII",
            "IDAHO",
            "ILLINOIS",
            "INDIANA",
            "IOWA",
            "KANSAS",
            "KENTUCKY",
            "LOUISIANA",
            "MAINE",
            "MARYLAND",
            "MASSACHUSETTS",
            "MICHIGAN",
            "MICRONESIA",
            "MINNESOTA",
            "MISSISSIPPI",
            "MISSOURI",
            "MONTANA",
            "NEBRASKA",
            "NEVADA",
            "NEW HAMPSHIRE",
            "NEW JERSEY",
            "NEW MEXICO",
            "NEW YORK",
            "NORTH CAROLINA",
            "NORTH DAKOTA",
            "OHIO",
            "OKLAHOMA",
            "OREGON",
            "PENNSYLVANIA",
            "PUERTO RICO",
            "RHODE ISLAND",
            "SOUTH CAROLINA",
            "SOUTH DAKOTA",
            "TENNESSEE",
            "TEXAS",
            "UTAH",
            "VERMONT",
            "VIRGIN ISLANDS",
            "VIRGINIA",
            "WASHINGTON",
            "WEST VIRGINIA",
            "WISCONSIN",
            "WYOMING"
           ],
           [
            "2,199,021",
            "1,988,933",
            "5,114,360",
            "1,906,908",
            "9,023,855",
            "1,305,428",
            "3,557,029",
            "64,104,404",
            "696,780",
            "3,106,553",
            "1,038,731",
            "964,111",
            "9,819,390",
            "965,645",
            "1,653,049",
            "1,856,502",
            "485,526",
            "439,619",
            "594,161",
            "653,657",
            "1,770,203",
            "1,811,822",
            "5,000,592",
            "774,931",
            "225,251",
            "460,832",
            "2,511,944",
            "1,108,188",
            "1,980,586",
            "660,452",
            "3,667,765",
            "854,549",
            "3,395,518",
            "544,179",
            "14,128,729",
            "72,627,351",
            "821,302",
            "26,322,554",
            "1,001,065",
            "2,707,755",
            "2,348,629",
            "28,128,771",
            "34,469,545",
            "1,183,470",
            "61,841,662",
            "1,735,309",
            "2,822,407",
            "23,772,584",
            "629,154",
            "585,786",
            "11,799,100",
            "2,833,444",
            "923,958",
            "879,772",
            "359,058"
           ]
          ]
         },
         "header": {
          "align": "left",
          "fill": {
           "color": "#118C4F"
          },
          "font": {
           "color": "white"
          },
          "values": [
           "State Name",
           "Assets"
          ]
         },
         "type": "table",
         "visible": false
        }
       ],
       "layout": {
        "annotations": [
         {
          "showarrow": false,
          "text": "Figures in millions",
          "x": 0,
          "xref": "paper",
          "y": -0.15,
          "yref": "paper"
         }
        ],
        "template": {
         "data": {
          "bar": [
           {
            "error_x": {
             "color": "#2a3f5f"
            },
            "error_y": {
             "color": "#2a3f5f"
            },
            "marker": {
             "line": {
              "color": "#E5ECF6",
              "width": 0.5
             },
             "pattern": {
              "fillmode": "overlay",
              "size": 10,
              "solidity": 0.2
             }
            },
            "type": "bar"
           }
          ],
          "barpolar": [
           {
            "marker": {
             "line": {
              "color": "#E5ECF6",
              "width": 0.5
             },
             "pattern": {
              "fillmode": "overlay",
              "size": 10,
              "solidity": 0.2
             }
            },
            "type": "barpolar"
           }
          ],
          "carpet": [
           {
            "aaxis": {
             "endlinecolor": "#2a3f5f",
             "gridcolor": "white",
             "linecolor": "white",
             "minorgridcolor": "white",
             "startlinecolor": "#2a3f5f"
            },
            "baxis": {
             "endlinecolor": "#2a3f5f",
             "gridcolor": "white",
             "linecolor": "white",
             "minorgridcolor": "white",
             "startlinecolor": "#2a3f5f"
            },
            "type": "carpet"
           }
          ],
          "choropleth": [
           {
            "colorbar": {
             "outlinewidth": 0,
             "ticks": ""
            },
            "type": "choropleth"
           }
          ],
          "contour": [
           {
            "colorbar": {
             "outlinewidth": 0,
             "ticks": ""
            },
            "colorscale": [
             [
              0,
              "#0d0887"
             ],
             [
              0.1111111111111111,
              "#46039f"
             ],
             [
              0.2222222222222222,
              "#7201a8"
             ],
             [
              0.3333333333333333,
              "#9c179e"
             ],
             [
              0.4444444444444444,
              "#bd3786"
             ],
             [
              0.5555555555555556,
              "#d8576b"
             ],
             [
              0.6666666666666666,
              "#ed7953"
             ],
             [
              0.7777777777777778,
              "#fb9f3a"
             ],
             [
              0.8888888888888888,
              "#fdca26"
             ],
             [
              1,
              "#f0f921"
             ]
            ],
            "type": "contour"
           }
          ],
          "contourcarpet": [
           {
            "colorbar": {
             "outlinewidth": 0,
             "ticks": ""
            },
            "type": "contourcarpet"
           }
          ],
          "heatmap": [
           {
            "colorbar": {
             "outlinewidth": 0,
             "ticks": ""
            },
            "colorscale": [
             [
              0,
              "#0d0887"
             ],
             [
              0.1111111111111111,
              "#46039f"
             ],
             [
              0.2222222222222222,
              "#7201a8"
             ],
             [
              0.3333333333333333,
              "#9c179e"
             ],
             [
              0.4444444444444444,
              "#bd3786"
             ],
             [
              0.5555555555555556,
              "#d8576b"
             ],
             [
              0.6666666666666666,
              "#ed7953"
             ],
             [
              0.7777777777777778,
              "#fb9f3a"
             ],
             [
              0.8888888888888888,
              "#fdca26"
             ],
             [
              1,
              "#f0f921"
             ]
            ],
            "type": "heatmap"
           }
          ],
          "heatmapgl": [
           {
            "colorbar": {
             "outlinewidth": 0,
             "ticks": ""
            },
            "colorscale": [
             [
              0,
              "#0d0887"
             ],
             [
              0.1111111111111111,
              "#46039f"
             ],
             [
              0.2222222222222222,
              "#7201a8"
             ],
             [
              0.3333333333333333,
              "#9c179e"
             ],
             [
              0.4444444444444444,
              "#bd3786"
             ],
             [
              0.5555555555555556,
              "#d8576b"
             ],
             [
              0.6666666666666666,
              "#ed7953"
             ],
             [
              0.7777777777777778,
              "#fb9f3a"
             ],
             [
              0.8888888888888888,
              "#fdca26"
             ],
             [
              1,
              "#f0f921"
             ]
            ],
            "type": "heatmapgl"
           }
          ],
          "histogram": [
           {
            "marker": {
             "pattern": {
              "fillmode": "overlay",
              "size": 10,
              "solidity": 0.2
             }
            },
            "type": "histogram"
           }
          ],
          "histogram2d": [
           {
            "colorbar": {
             "outlinewidth": 0,
             "ticks": ""
            },
            "colorscale": [
             [
              0,
              "#0d0887"
             ],
             [
              0.1111111111111111,
              "#46039f"
             ],
             [
              0.2222222222222222,
              "#7201a8"
             ],
             [
              0.3333333333333333,
              "#9c179e"
             ],
             [
              0.4444444444444444,
              "#bd3786"
             ],
             [
              0.5555555555555556,
              "#d8576b"
             ],
             [
              0.6666666666666666,
              "#ed7953"
             ],
             [
              0.7777777777777778,
              "#fb9f3a"
             ],
             [
              0.8888888888888888,
              "#fdca26"
             ],
             [
              1,
              "#f0f921"
             ]
            ],
            "type": "histogram2d"
           }
          ],
          "histogram2dcontour": [
           {
            "colorbar": {
             "outlinewidth": 0,
             "ticks": ""
            },
            "colorscale": [
             [
              0,
              "#0d0887"
             ],
             [
              0.1111111111111111,
              "#46039f"
             ],
             [
              0.2222222222222222,
              "#7201a8"
             ],
             [
              0.3333333333333333,
              "#9c179e"
             ],
             [
              0.4444444444444444,
              "#bd3786"
             ],
             [
              0.5555555555555556,
              "#d8576b"
             ],
             [
              0.6666666666666666,
              "#ed7953"
             ],
             [
              0.7777777777777778,
              "#fb9f3a"
             ],
             [
              0.8888888888888888,
              "#fdca26"
             ],
             [
              1,
              "#f0f921"
             ]
            ],
            "type": "histogram2dcontour"
           }
          ],
          "mesh3d": [
           {
            "colorbar": {
             "outlinewidth": 0,
             "ticks": ""
            },
            "type": "mesh3d"
           }
          ],
          "parcoords": [
           {
            "line": {
             "colorbar": {
              "outlinewidth": 0,
              "ticks": ""
             }
            },
            "type": "parcoords"
           }
          ],
          "pie": [
           {
            "automargin": true,
            "type": "pie"
           }
          ],
          "scatter": [
           {
            "fillpattern": {
             "fillmode": "overlay",
             "size": 10,
             "solidity": 0.2
            },
            "type": "scatter"
           }
          ],
          "scatter3d": [
           {
            "line": {
             "colorbar": {
              "outlinewidth": 0,
              "ticks": ""
             }
            },
            "marker": {
             "colorbar": {
              "outlinewidth": 0,
              "ticks": ""
             }
            },
            "type": "scatter3d"
           }
          ],
          "scattercarpet": [
           {
            "marker": {
             "colorbar": {
              "outlinewidth": 0,
              "ticks": ""
             }
            },
            "type": "scattercarpet"
           }
          ],
          "scattergeo": [
           {
            "marker": {
             "colorbar": {
              "outlinewidth": 0,
              "ticks": ""
             }
            },
            "type": "scattergeo"
           }
          ],
          "scattergl": [
           {
            "marker": {
             "colorbar": {
              "outlinewidth": 0,
              "ticks": ""
             }
            },
            "type": "scattergl"
           }
          ],
          "scattermapbox": [
           {
            "marker": {
             "colorbar": {
              "outlinewidth": 0,
              "ticks": ""
             }
            },
            "type": "scattermapbox"
           }
          ],
          "scatterpolar": [
           {
            "marker": {
             "colorbar": {
              "outlinewidth": 0,
              "ticks": ""
             }
            },
            "type": "scatterpolar"
           }
          ],
          "scatterpolargl": [
           {
            "marker": {
             "colorbar": {
              "outlinewidth": 0,
              "ticks": ""
             }
            },
            "type": "scatterpolargl"
           }
          ],
          "scatterternary": [
           {
            "marker": {
             "colorbar": {
              "outlinewidth": 0,
              "ticks": ""
             }
            },
            "type": "scatterternary"
           }
          ],
          "surface": [
           {
            "colorbar": {
             "outlinewidth": 0,
             "ticks": ""
            },
            "colorscale": [
             [
              0,
              "#0d0887"
             ],
             [
              0.1111111111111111,
              "#46039f"
             ],
             [
              0.2222222222222222,
              "#7201a8"
             ],
             [
              0.3333333333333333,
              "#9c179e"
             ],
             [
              0.4444444444444444,
              "#bd3786"
             ],
             [
              0.5555555555555556,
              "#d8576b"
             ],
             [
              0.6666666666666666,
              "#ed7953"
             ],
             [
              0.7777777777777778,
              "#fb9f3a"
             ],
             [
              0.8888888888888888,
              "#fdca26"
             ],
             [
              1,
              "#f0f921"
             ]
            ],
            "type": "surface"
           }
          ],
          "table": [
           {
            "cells": {
             "fill": {
              "color": "#EBF0F8"
             },
             "line": {
              "color": "white"
             }
            },
            "header": {
             "fill": {
              "color": "#C8D4E3"
             },
             "line": {
              "color": "white"
             }
            },
            "type": "table"
           }
          ]
         },
         "layout": {
          "annotationdefaults": {
           "arrowcolor": "#2a3f5f",
           "arrowhead": 0,
           "arrowwidth": 1
          },
          "autotypenumbers": "strict",
          "coloraxis": {
           "colorbar": {
            "outlinewidth": 0,
            "ticks": ""
           }
          },
          "colorscale": {
           "diverging": [
            [
             0,
             "#8e0152"
            ],
            [
             0.1,
             "#c51b7d"
            ],
            [
             0.2,
             "#de77ae"
            ],
            [
             0.3,
             "#f1b6da"
            ],
            [
             0.4,
             "#fde0ef"
            ],
            [
             0.5,
             "#f7f7f7"
            ],
            [
             0.6,
             "#e6f5d0"
            ],
            [
             0.7,
             "#b8e186"
            ],
            [
             0.8,
             "#7fbc41"
            ],
            [
             0.9,
             "#4d9221"
            ],
            [
             1,
             "#276419"
            ]
           ],
           "sequential": [
            [
             0,
             "#0d0887"
            ],
            [
             0.1111111111111111,
             "#46039f"
            ],
            [
             0.2222222222222222,
             "#7201a8"
            ],
            [
             0.3333333333333333,
             "#9c179e"
            ],
            [
             0.4444444444444444,
             "#bd3786"
            ],
            [
             0.5555555555555556,
             "#d8576b"
            ],
            [
             0.6666666666666666,
             "#ed7953"
            ],
            [
             0.7777777777777778,
             "#fb9f3a"
            ],
            [
             0.8888888888888888,
             "#fdca26"
            ],
            [
             1,
             "#f0f921"
            ]
           ],
           "sequentialminus": [
            [
             0,
             "#0d0887"
            ],
            [
             0.1111111111111111,
             "#46039f"
            ],
            [
             0.2222222222222222,
             "#7201a8"
            ],
            [
             0.3333333333333333,
             "#9c179e"
            ],
            [
             0.4444444444444444,
             "#bd3786"
            ],
            [
             0.5555555555555556,
             "#d8576b"
            ],
            [
             0.6666666666666666,
             "#ed7953"
            ],
            [
             0.7777777777777778,
             "#fb9f3a"
            ],
            [
             0.8888888888888888,
             "#fdca26"
            ],
            [
             1,
             "#f0f921"
            ]
           ]
          },
          "colorway": [
           "#636efa",
           "#EF553B",
           "#00cc96",
           "#ab63fa",
           "#FFA15A",
           "#19d3f3",
           "#FF6692",
           "#B6E880",
           "#FF97FF",
           "#FECB52"
          ],
          "font": {
           "color": "#2a3f5f"
          },
          "geo": {
           "bgcolor": "white",
           "lakecolor": "white",
           "landcolor": "#E5ECF6",
           "showlakes": true,
           "showland": true,
           "subunitcolor": "white"
          },
          "hoverlabel": {
           "align": "left"
          },
          "hovermode": "closest",
          "mapbox": {
           "style": "light"
          },
          "paper_bgcolor": "white",
          "plot_bgcolor": "#E5ECF6",
          "polar": {
           "angularaxis": {
            "gridcolor": "white",
            "linecolor": "white",
            "ticks": ""
           },
           "bgcolor": "#E5ECF6",
           "radialaxis": {
            "gridcolor": "white",
            "linecolor": "white",
            "ticks": ""
           }
          },
          "scene": {
           "xaxis": {
            "backgroundcolor": "#E5ECF6",
            "gridcolor": "white",
            "gridwidth": 2,
            "linecolor": "white",
            "showbackground": true,
            "ticks": "",
            "zerolinecolor": "white"
           },
           "yaxis": {
            "backgroundcolor": "#E5ECF6",
            "gridcolor": "white",
            "gridwidth": 2,
            "linecolor": "white",
            "showbackground": true,
            "ticks": "",
            "zerolinecolor": "white"
           },
           "zaxis": {
            "backgroundcolor": "#E5ECF6",
            "gridcolor": "white",
            "gridwidth": 2,
            "linecolor": "white",
            "showbackground": true,
            "ticks": "",
            "zerolinecolor": "white"
           }
          },
          "shapedefaults": {
           "line": {
            "color": "#2a3f5f"
           }
          },
          "ternary": {
           "aaxis": {
            "gridcolor": "white",
            "linecolor": "white",
            "ticks": ""
           },
           "baxis": {
            "gridcolor": "white",
            "linecolor": "white",
            "ticks": ""
           },
           "bgcolor": "#E5ECF6",
           "caxis": {
            "gridcolor": "white",
            "linecolor": "white",
            "ticks": ""
           }
          },
          "title": {
           "x": 0.05
          },
          "xaxis": {
           "automargin": true,
           "gridcolor": "white",
           "linecolor": "white",
           "ticks": "",
           "title": {
            "standoff": 15
           },
           "zerolinecolor": "white",
           "zerolinewidth": 2
          },
          "yaxis": {
           "automargin": true,
           "gridcolor": "white",
           "linecolor": "white",
           "ticks": "",
           "title": {
            "standoff": 15
           },
           "zerolinecolor": "white",
           "zerolinewidth": 2
          }
         }
        },
        "title": {
         "text": "Average Equity"
        },
        "updatemenus": [
         {
          "buttons": [
           {
            "args": [
             {
              "visible": [
               true,
               false,
               false
              ]
             },
             {
              "title": "Average Equity"
             }
            ],
            "label": "Equity",
            "method": "update"
           },
           {
            "args": [
             {
              "visible": [
               false,
               true,
               false
              ]
             },
             {
              "title": "Average Liabilities"
             }
            ],
            "label": "Liabilities",
            "method": "update"
           },
           {
            "args": [
             {
              "visible": [
               false,
               false,
               true
              ]
             },
             {
              "title": "Average Assets"
             }
            ],
            "label": "Assets",
            "method": "update"
           }
          ],
          "showactive": true,
          "x": 0.8,
          "y": 1.1
         }
        ]
       }
      }
     },
     "metadata": {},
     "output_type": "display_data"
    }
   ],
   "source": [
    "# select date\n",
    "filtered_df = quarterly_financials[quarterly_financials['REPDTE'] == 20221231]\n",
    "\n",
    "# aggregte on equity, liabilities and assets and rename\n",
    "mean_values = filtered_df.groupby('STNAME')[['EQ', 'LIAB', 'ASSET']].mean().round(0).reset_index()\n",
    "mean_values.rename(columns={'EQ': 'Equity', 'LIAB': 'Liabilities', 'ASSET': 'Assets'}, inplace=True)\n",
    "\n",
    "# format thousand sep\n",
    "mean_values['Equity'] = mean_values['Equity'].apply(lambda x: '{:,}'.format(int(x)))\n",
    "mean_values['Liabilities'] = mean_values['Liabilities'].apply(lambda x: '{:,}'.format(int(x)))\n",
    "mean_values['Assets'] = mean_values['Assets'].apply(lambda x: '{:,}'.format(int(x)))\n",
    "\n",
    "# alternating row color\n",
    "row_colors = ['lavender', 'white'] * int(len(mean_values)/2 + 1)\n",
    "row_colors = row_colors[:len(mean_values)]\n",
    "\n",
    "# create the tables\n",
    "table_equity = go.Table(header=dict(values=['State Name', 'Equity'], fill_color='#118C4F', align='left', font=dict(color='white')),\n",
    "                        cells=dict(values=[mean_values['STNAME'], mean_values['Equity']], fill_color=[row_colors], align='left'), visible=True)\n",
    "\n",
    "table_liabilities = go.Table(header=dict(values=['State Name', 'Liabilities'], fill_color='#118C4F', align='left', font=dict(color='white')),\n",
    "                             cells=dict(values=[mean_values['STNAME'], mean_values['Liabilities']], fill_color=[row_colors], align='left'), visible=False)\n",
    "\n",
    "table_assets = go.Table(header=dict(values=['State Name', 'Assets'], fill_color='#118C4F', align='left', font=dict(color='white')),\n",
    "                        cells=dict(values=[mean_values['STNAME'], mean_values['Assets']], fill_color=[row_colors], align='left'), visible=False)\n",
    "\n",
    "# add to fig\n",
    "fig = go.Figure(data=[table_equity, table_liabilities, table_assets])\n",
    "\n",
    "# dropdown\n",
    "dropdown_buttons = [\n",
    "    dict(label=\"Equity\", method=\"update\", args=[{\"visible\": [True, False, False]}, {\"title\": \"Average Equity\"}]),\n",
    "    dict(label=\"Liabilities\", method=\"update\", args=[{\"visible\": [False, True, False]}, {\"title\": \"Average Liabilities\"}]),\n",
    "    dict(label=\"Assets\", method=\"update\", args=[{\"visible\": [False, False, True]}, {\"title\": \"Average Assets\"}]),\n",
    "]\n",
    "\n",
    "fig.update_layout(updatemenus=[dict(buttons=dropdown_buttons, showactive=True, x=0.8, y=1.1)])\n",
    "fig.add_annotation(text=\"Figures in millions\", xref=\"paper\", yref=\"paper\", x=0, y=-0.15, showarrow=False)\n",
    "\n",
    "# plot\n",
    "fig.update_layout(title=\"Average Equity\") # initial\n",
    "fig.show()"
   ]
  }
 ],
 "metadata": {
  "kernelspec": {
   "display_name": "Python 3 (ipykernel)",
   "language": "python",
   "name": "python3"
  },
  "language_info": {
   "codemirror_mode": {
    "name": "ipython",
    "version": 3
   },
   "file_extension": ".py",
   "mimetype": "text/x-python",
   "name": "python",
   "nbconvert_exporter": "python",
   "pygments_lexer": "ipython3",
   "version": "3.10.8"
  }
 },
 "nbformat": 4,
 "nbformat_minor": 2
}
